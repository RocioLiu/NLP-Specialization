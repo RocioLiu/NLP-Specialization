{
 "cells": [
  {
   "cell_type": "markdown",
   "metadata": {},
   "source": [
    "# Assignment 3 - Named Entity Recognition (NER)\n",
    "\n",
    "Welcome to the third programming assignment of Course 3. In this assignment, you will learn to build more complicated models with Trax. By completing this assignment, you will be able to: \n",
    "\n",
    "- Design the architecture of a neural network, train it, and test it. \n",
    "- Process features and represents them\n",
    "- Understand word padding\n",
    "- Implement LSTMs\n",
    "- Test with your own sentence\n",
    "\n",
    "## Outline\n",
    "- [Introduction](#0)\n",
    "- [Part 1:  Exploring the data](#1)\n",
    "    - [1.1  Importing the Data](#1.1)\n",
    "    - [1.2  Data generator](#1.2)\n",
    "\t\t- [Exercise 01](#ex01)\n",
    "- [Part 2:  Building the model](#2)\n",
    "\t- [Exercise 02](#ex02)\n",
    "- [Part 3:  Train the Model ](#3)\n",
    "\t- [Exercise 03](#ex03)\n",
    "- [Part 4:  Compute Accuracy](#4)\n",
    "\t- [Exercise 04](#ex04)\n",
    "- [Part 5:  Testing with your own sentence](#5)\n"
   ]
  },
  {
   "cell_type": "markdown",
   "metadata": {},
   "source": [
    "<a name=\"0\"></a>\n",
    "# Introduction\n",
    "\n",
    "We first start by defining named entity recognition (NER). NER is a subtask of information extraction that locates and classifies named entities in a text. The named entities could be organizations, persons, locations, times, etc. \n",
    "\n",
    "For example:\n",
    "\n",
    "<img src = 'ner.png' width=\"width\" height=\"height\" style=\"width:600px;height:150px;\"/>\n",
    "\n",
    "Is labeled as follows: \n",
    "\n",
    "- French: geopolitical entity\n",
    "- Morocco: geographic entity \n",
    "- Christmas: time indicator\n",
    "\n",
    "Everything else that is labeled with an `O` is not considered to be a named entity. In this assignment, you will train a named entity recognition system that could be trained in a few seconds (on a GPU) and will get around 75% accuracy. Then, you will load in the exact version of your model, which was trained for a longer period of time. You could then evaluate the trained version of your model to get 96% accuracy! Finally, you will be able to test your named entity recognition system with your own sentence."
   ]
  },
  {
   "cell_type": "code",
   "execution_count": 1,
   "metadata": {},
   "outputs": [
    {
     "name": "stdout",
     "output_type": "stream",
     "text": [
      "INFO:tensorflow:tokens_length=568 inputs_length=512 targets_length=114 noise_density=0.15 mean_noise_span_length=3.0 \n"
     ]
    },
    {
     "data": {
      "text/plain": [
       "DeviceArray([ 0, 33], dtype=uint32)"
      ]
     },
     "execution_count": 1,
     "metadata": {},
     "output_type": "execute_result"
    }
   ],
   "source": [
    "#!pip -q install trax==1.3.1\n",
    "\n",
    "import trax \n",
    "from trax import layers as tl\n",
    "import os \n",
    "import numpy as np\n",
    "import pandas as pd\n",
    "\n",
    "\n",
    "from utils import get_params, get_vocab\n",
    "import random as rnd\n",
    "\n",
    "# set random seeds to make this notebook easier to replicate\n",
    "trax.supervised.trainer_lib.init_random_number_generators(33)"
   ]
  },
  {
   "cell_type": "code",
   "execution_count": 2,
   "metadata": {},
   "outputs": [],
   "source": [
    "import numpy as np\n",
    "import pandas as pd\n",
    "import os\n",
    "\n",
    "import torch\n",
    "from torch import nn\n",
    "import torch.nn.functional as F\n",
    "from torch.utils.data import TensorDataset, DataLoader\n",
    "\n",
    "#from utils import get_params, get_vocab\n",
    "import random as rnd"
   ]
  },
  {
   "cell_type": "markdown",
   "metadata": {},
   "source": [
    "<a name=\"1\"></a>\n",
    "# Part 1:  Exploring the data\n",
    "\n",
    "We will be using a dataset from Kaggle, which we will preprocess for you. The original data consists of four columns, the sentence number, the word, the part of speech of the word, and the tags.  A few tags you might expect to see are: \n",
    "\n",
    "* geo: geographical entity\n",
    "* org: organization\n",
    "* per: person \n",
    "* gpe: geopolitical entity\n",
    "* tim: time indicator\n",
    "* art: artifact\n",
    "* eve: event\n",
    "* nat: natural phenomenon\n",
    "* O: filler word\n"
   ]
  },
  {
   "cell_type": "code",
   "execution_count": 3,
   "metadata": {},
   "outputs": [
    {
     "name": "stdout",
     "output_type": "stream",
     "text": [
      "SENTENCE: Thousands of demonstrators have marched through London to protest the war in Iraq and demand the withdrawal of British troops from that country .\n",
      "\n",
      "SENTENCE LABEL: O O O O O O B-geo O O O O O B-geo O O O O O B-gpe O O O O O\n",
      "\n",
      "ORIGINAL DATA:\n",
      "     Sentence #           Word  POS Tag\n",
      "0  Sentence: 1      Thousands  NNS   O\n",
      "1          NaN             of   IN   O\n",
      "2          NaN  demonstrators  NNS   O\n",
      "3          NaN           have  VBP   O\n",
      "4          NaN        marched  VBN   O\n"
     ]
    }
   ],
   "source": [
    "# display original kaggle data\n",
    "data = pd.read_csv(\"ner_dataset.csv\", encoding = \"ISO-8859-1\") \n",
    "train_sents = open('data/small/train/sentences.txt', 'r').readline()\n",
    "train_labels = open('data/small/train/labels.txt', 'r').readline()\n",
    "print('SENTENCE:', train_sents)\n",
    "print('SENTENCE LABEL:', train_labels)\n",
    "print('ORIGINAL DATA:\\n', data.head(5))\n",
    "#del(data, train_sents, train_labels)"
   ]
  },
  {
   "cell_type": "code",
   "execution_count": 4,
   "metadata": {},
   "outputs": [
    {
     "data": {
      "text/html": [
       "<div>\n",
       "<style scoped>\n",
       "    .dataframe tbody tr th:only-of-type {\n",
       "        vertical-align: middle;\n",
       "    }\n",
       "\n",
       "    .dataframe tbody tr th {\n",
       "        vertical-align: top;\n",
       "    }\n",
       "\n",
       "    .dataframe thead th {\n",
       "        text-align: right;\n",
       "    }\n",
       "</style>\n",
       "<table border=\"1\" class=\"dataframe\">\n",
       "  <thead>\n",
       "    <tr style=\"text-align: right;\">\n",
       "      <th></th>\n",
       "      <th>Sentence #</th>\n",
       "      <th>Word</th>\n",
       "      <th>POS</th>\n",
       "      <th>Tag</th>\n",
       "    </tr>\n",
       "  </thead>\n",
       "  <tbody>\n",
       "    <tr>\n",
       "      <th>1048565</th>\n",
       "      <td>Sentence: 47958</td>\n",
       "      <td>impact</td>\n",
       "      <td>NN</td>\n",
       "      <td>O</td>\n",
       "    </tr>\n",
       "    <tr>\n",
       "      <th>1048566</th>\n",
       "      <td>Sentence: 47958</td>\n",
       "      <td>.</td>\n",
       "      <td>.</td>\n",
       "      <td>O</td>\n",
       "    </tr>\n",
       "    <tr>\n",
       "      <th>1048567</th>\n",
       "      <td>Sentence: 47959</td>\n",
       "      <td>Indian</td>\n",
       "      <td>JJ</td>\n",
       "      <td>B-gpe</td>\n",
       "    </tr>\n",
       "    <tr>\n",
       "      <th>1048568</th>\n",
       "      <td>Sentence: 47959</td>\n",
       "      <td>forces</td>\n",
       "      <td>NNS</td>\n",
       "      <td>O</td>\n",
       "    </tr>\n",
       "    <tr>\n",
       "      <th>1048569</th>\n",
       "      <td>Sentence: 47959</td>\n",
       "      <td>said</td>\n",
       "      <td>VBD</td>\n",
       "      <td>O</td>\n",
       "    </tr>\n",
       "    <tr>\n",
       "      <th>1048570</th>\n",
       "      <td>Sentence: 47959</td>\n",
       "      <td>they</td>\n",
       "      <td>PRP</td>\n",
       "      <td>O</td>\n",
       "    </tr>\n",
       "    <tr>\n",
       "      <th>1048571</th>\n",
       "      <td>Sentence: 47959</td>\n",
       "      <td>responded</td>\n",
       "      <td>VBD</td>\n",
       "      <td>O</td>\n",
       "    </tr>\n",
       "    <tr>\n",
       "      <th>1048572</th>\n",
       "      <td>Sentence: 47959</td>\n",
       "      <td>to</td>\n",
       "      <td>TO</td>\n",
       "      <td>O</td>\n",
       "    </tr>\n",
       "    <tr>\n",
       "      <th>1048573</th>\n",
       "      <td>Sentence: 47959</td>\n",
       "      <td>the</td>\n",
       "      <td>DT</td>\n",
       "      <td>O</td>\n",
       "    </tr>\n",
       "    <tr>\n",
       "      <th>1048574</th>\n",
       "      <td>Sentence: 47959</td>\n",
       "      <td>attack</td>\n",
       "      <td>NN</td>\n",
       "      <td>O</td>\n",
       "    </tr>\n",
       "  </tbody>\n",
       "</table>\n",
       "</div>"
      ],
      "text/plain": [
       "              Sentence #       Word  POS    Tag\n",
       "1048565  Sentence: 47958     impact   NN      O\n",
       "1048566  Sentence: 47958          .    .      O\n",
       "1048567  Sentence: 47959     Indian   JJ  B-gpe\n",
       "1048568  Sentence: 47959     forces  NNS      O\n",
       "1048569  Sentence: 47959       said  VBD      O\n",
       "1048570  Sentence: 47959       they  PRP      O\n",
       "1048571  Sentence: 47959  responded  VBD      O\n",
       "1048572  Sentence: 47959         to   TO      O\n",
       "1048573  Sentence: 47959        the   DT      O\n",
       "1048574  Sentence: 47959     attack   NN      O"
      ]
     },
     "execution_count": 4,
     "metadata": {},
     "output_type": "execute_result"
    }
   ],
   "source": [
    "data = pd.read_csv(\"ner_dataset.csv\", encoding = \"ISO-8859-1\").fillna(method='ffill')\n",
    "data.tail(10)"
   ]
  },
  {
   "cell_type": "markdown",
   "metadata": {},
   "source": [
    "<a name=\"1.1\"></a>\n",
    "## 1.1  Importing the Data\n",
    "\n",
    "In this part, we will import the preprocessed data and explore it."
   ]
  },
  {
   "cell_type": "markdown",
   "metadata": {},
   "source": [
    "```\n",
    "def get_vocab(vocab_path, tags_path):\n",
    "    vocab = {}\n",
    "    with open(vocab_path) as f:\n",
    "        for i, l in enumerate(f.read().splitlines()):\n",
    "            vocab[l] = i  # to avoid the 0\n",
    "        # loading tags (we require this to map tags to their indices)\n",
    "    vocab['<PAD>'] = len(vocab) # 35180\n",
    "    tag_map = {}\n",
    "    with open(tags_path) as f:\n",
    "        for i, t in enumerate(f.read().splitlines()):\n",
    "            tag_map[t] = i \n",
    "    \n",
    "    return vocab, tag_map\n",
    "```\n",
    "\n",
    "---\n",
    "\n",
    "```\n",
    "def get_params(vocab, tag_map, sentences_file, labels_file):\n",
    "    sentences = []\n",
    "    labels = []\n",
    "\n",
    "    with open(sentences_file) as f:\n",
    "        for sentence in f.read().splitlines():\n",
    "            # replace each token by its index if it is in vocab\n",
    "            # else use index of UNK_WORD\n",
    "            s = [vocab[token] if token in vocab \n",
    "                 else vocab['UNK']\n",
    "                 for token in sentence.split(' ')]\n",
    "            sentences.append(s)\n",
    "\n",
    "    with open(labels_file) as f:\n",
    "        for sentence in f.read().splitlines():\n",
    "            # replace each label by its index\n",
    "            l = [tag_map[label] for label in sentence.split(' ')] # I added plus 1 here\n",
    "            labels.append(l) \n",
    "    return sentences, labels, len(sentences)\n",
    "```"
   ]
  },
  {
   "cell_type": "markdown",
   "metadata": {},
   "source": [
    "**Encoding the words**  \n",
    "The embedding lookup requires that we pass in integers to our network. The easiest way to do this is to create dictionaries that map the words in the vocabulary to integers. Then we can convert each of our reviews into integers so they can be passed into the network.\n",
    "\n",
    ">Build a dictionary that maps words to integers. Later we're going to pad our input vectors with zeros, so make sure the integers **start at 1, not 0**."
   ]
  },
  {
   "cell_type": "code",
   "execution_count": 5,
   "metadata": {},
   "outputs": [],
   "source": [
    "from collections import Counter"
   ]
  },
  {
   "cell_type": "code",
   "execution_count": 6,
   "metadata": {},
   "outputs": [],
   "source": [
    "## Build a dictionary that maps words to integers\n",
    "words_count = Counter(data[\"Word\"])\n",
    "vocab_to_int = {w: (i+1) for i, w in enumerate(words_count)}\n",
    "vocab_to_int['UNK'] = len(vocab_to_int)\n",
    "#vocab_to_int['<PAD>'] = len(vocab_to_int)"
   ]
  },
  {
   "cell_type": "code",
   "execution_count": 7,
   "metadata": {},
   "outputs": [
    {
     "data": {
      "text/plain": [
       "{'Thousands': 114,\n",
       " 'of': 26354,\n",
       " 'demonstrators': 110,\n",
       " 'have': 5485,\n",
       " 'marched': 65,\n",
       " 'through': 515,\n",
       " 'London': 261,\n",
       " 'to': 23213,\n",
       " 'protest': 237,\n",
       " 'the': 52573}"
      ]
     },
     "execution_count": 7,
     "metadata": {},
     "output_type": "execute_result"
    }
   ],
   "source": [
    "dict(list(words_count.items())[:10])"
   ]
  },
  {
   "cell_type": "code",
   "execution_count": 8,
   "metadata": {},
   "outputs": [
    {
     "data": {
      "text/plain": [
       "({'Thousands': 1,\n",
       "  'of': 2,\n",
       "  'demonstrators': 3,\n",
       "  'have': 4,\n",
       "  'marched': 5,\n",
       "  'through': 6,\n",
       "  'London': 7,\n",
       "  'to': 8,\n",
       "  'protest': 9,\n",
       "  'the': 10},\n",
       " {'hardliner': 35175,\n",
       "  'indicative': 35176,\n",
       "  '3700': 35177,\n",
       "  'Bermel': 35178,\n",
       "  'UNK': 35178})"
      ]
     },
     "execution_count": 8,
     "metadata": {},
     "output_type": "execute_result"
    }
   ],
   "source": [
    "dict(list(vocab_to_int.items())[:10]), dict(list(vocab_to_int.items())[-5:])"
   ]
  },
  {
   "cell_type": "code",
   "execution_count": 9,
   "metadata": {},
   "outputs": [
    {
     "name": "stdout",
     "output_type": "stream",
     "text": [
      "Unique words:  35179\n",
      "\n"
     ]
    }
   ],
   "source": [
    "# stats about vocabulary\n",
    "print('Unique words: ', len(vocab_to_int))  # should ~ 74000+\n",
    "print()"
   ]
  },
  {
   "cell_type": "code",
   "execution_count": 10,
   "metadata": {},
   "outputs": [
    {
     "data": {
      "text/plain": [
       "{'B-org': 1,\n",
       " 'B-eve': 2,\n",
       " 'I-tim': 3,\n",
       " 'B-art': 4,\n",
       " 'I-gpe': 5,\n",
       " 'B-gpe': 6,\n",
       " 'I-art': 7,\n",
       " 'I-eve': 8,\n",
       " 'I-nat': 9,\n",
       " 'B-per': 10,\n",
       " 'I-geo': 11,\n",
       " 'I-per': 12,\n",
       " 'I-org': 13,\n",
       " 'O': 14,\n",
       " 'B-geo': 15,\n",
       " 'B-nat': 16,\n",
       " 'B-tim': 17}"
      ]
     },
     "execution_count": 10,
     "metadata": {},
     "output_type": "execute_result"
    }
   ],
   "source": [
    "## Build a dictionary that maps tags to integers\n",
    "tag_to_int = {t: (i+1) for i, t in enumerate(set(data[\"Tag\"]))}\n",
    "tag_to_int"
   ]
  },
  {
   "cell_type": "markdown",
   "metadata": {},
   "source": [
    "Convert the sentences to integers and store the sentences in a new list called `sents_ints`."
   ]
  },
  {
   "cell_type": "code",
   "execution_count": 11,
   "metadata": {},
   "outputs": [],
   "source": [
    "def get_params2(vocab_to_int, tag_to_int, df):\n",
    "    sents_int = []\n",
    "    labels_int = [] \n",
    "    \n",
    "    sents_w = df.groupby('Sentence #')['Word'].apply(list).values\n",
    "    for sent in sents_w:\n",
    "        sent_int = [vocab_to_int[w] if w in vocab_to_int else vocab_to_int['UNK'] for w in sent]\n",
    "        sents_int.append(sent_int)\n",
    "    \n",
    "    sents_tags = df.groupby('Sentence #')['Tag'].apply(list).values\n",
    "    for sent_tags in sents_tags:\n",
    "        label_int = [tag_to_int[t] for t in sent_tags]\n",
    "        labels_int.append(label_int)\n",
    "    \n",
    "    return sents_int, labels_int, len(sents_int)"
   ]
  },
  {
   "cell_type": "code",
   "execution_count": 12,
   "metadata": {},
   "outputs": [],
   "source": [
    "sents_int, labels_int, sent_size = get_params2(vocab_to_int, tag_to_int, data)"
   ]
  },
  {
   "cell_type": "markdown",
   "metadata": {},
   "source": [
    "train-val-test split 7:1.5:1.5"
   ]
  },
  {
   "cell_type": "code",
   "execution_count": 13,
   "metadata": {},
   "outputs": [],
   "source": [
    "split_frac1, split_frac2 = 0.7, 0.15\n",
    "\n",
    "## split data into training, validation, and test data (sentences, labels, and len)\n",
    "split_idx = int(len(sents_int)*split_frac1)\n",
    "train_sent, train_label = sents_int[:split_idx], labels_int[:split_idx]\n",
    "\n",
    "split_idx2 = split_idx + int(len(sents_int)*split_frac2)\n",
    "valid_sent, valid_label = sents_int[split_idx:split_idx2], labels_int[split_idx:split_idx2]\n",
    "test_sent, test_label = sents_int[split_idx2:], labels_int[split_idx2:]\n",
    "\n",
    "train_len, valid_len, test_len = len(train_sent), len(valid_sent), len(test_sent)"
   ]
  },
  {
   "cell_type": "code",
   "execution_count": 14,
   "metadata": {},
   "outputs": [
    {
     "data": {
      "text/plain": [
       "(33571, 7193, 7195)"
      ]
     },
     "execution_count": 14,
     "metadata": {},
     "output_type": "execute_result"
    }
   ],
   "source": [
    "train_len, valid_len, test_len"
   ]
  },
  {
   "cell_type": "code",
   "execution_count": 15,
   "metadata": {},
   "outputs": [
    {
     "data": {
      "text/plain": [
       "[1,\n",
       " 2,\n",
       " 3,\n",
       " 4,\n",
       " 5,\n",
       " 6,\n",
       " 7,\n",
       " 8,\n",
       " 9,\n",
       " 10,\n",
       " 11,\n",
       " 12,\n",
       " 13,\n",
       " 14,\n",
       " 15,\n",
       " 10,\n",
       " 16,\n",
       " 2,\n",
       " 17,\n",
       " 18,\n",
       " 19,\n",
       " 20,\n",
       " 21,\n",
       " 22]"
      ]
     },
     "execution_count": 15,
     "metadata": {},
     "output_type": "execute_result"
    }
   ],
   "source": [
    "train_sent[0]"
   ]
  },
  {
   "cell_type": "markdown",
   "metadata": {},
   "source": [
    "--"
   ]
  },
  {
   "cell_type": "code",
   "execution_count": 16,
   "metadata": {},
   "outputs": [],
   "source": [
    "vocab, tag_map = get_vocab('data/large/words.txt', 'data/large/tags.txt')\n",
    "t_sentences, t_labels, t_size = get_params(vocab, tag_map, 'data/large/train/sentences.txt', 'data/large/train/labels.txt')\n",
    "v_sentences, v_labels, v_size = get_params(vocab, tag_map, 'data/large/val/sentences.txt', 'data/large/val/labels.txt')\n",
    "test_sentences, test_labels, test_size = get_params(vocab, tag_map, 'data/large/test/sentences.txt', 'data/large/test/labels.txt')"
   ]
  },
  {
   "cell_type": "code",
   "execution_count": 17,
   "metadata": {},
   "outputs": [
    {
     "data": {
      "text/plain": [
       "(33570, 7194, 7194)"
      ]
     },
     "execution_count": 17,
     "metadata": {},
     "output_type": "execute_result"
    }
   ],
   "source": [
    "t_size, v_size, test_size"
   ]
  },
  {
   "cell_type": "code",
   "execution_count": 18,
   "metadata": {},
   "outputs": [
    {
     "data": {
      "text/plain": [
       "47958"
      ]
     },
     "execution_count": 18,
     "metadata": {},
     "output_type": "execute_result"
    }
   ],
   "source": [
    "t_size + v_size + test_size"
   ]
  },
  {
   "cell_type": "code",
   "execution_count": 19,
   "metadata": {},
   "outputs": [
    {
     "data": {
      "text/plain": [
       "{'O': 0,\n",
       " 'B-geo': 1,\n",
       " 'B-gpe': 2,\n",
       " 'B-per': 3,\n",
       " 'I-geo': 4,\n",
       " 'B-org': 5,\n",
       " 'I-org': 6,\n",
       " 'B-tim': 7,\n",
       " 'B-art': 8,\n",
       " 'I-art': 9,\n",
       " 'I-per': 10,\n",
       " 'I-gpe': 11,\n",
       " 'I-tim': 12,\n",
       " 'B-nat': 13,\n",
       " 'B-eve': 14,\n",
       " 'I-eve': 15,\n",
       " 'I-nat': 16}"
      ]
     },
     "execution_count": 19,
     "metadata": {},
     "output_type": "execute_result"
    }
   ],
   "source": [
    "tag_map"
   ]
  },
  {
   "cell_type": "markdown",
   "metadata": {},
   "source": [
    "`vocab` is a dictionary that translates a word string to a unique number. Given a sentence, you can represent it as an array of numbers translating with this dictionary. The dictionary contains a `<PAD>` token. \n",
    "\n",
    "When training an LSTM using batches, all your input sentences must be the same size. To accomplish this, you set the length of your sentences to a certain number and add the generic `<PAD>` token to fill all the empty spaces. "
   ]
  },
  {
   "cell_type": "code",
   "execution_count": 20,
   "metadata": {},
   "outputs": [
    {
     "name": "stdout",
     "output_type": "stream",
     "text": [
      "vocab[\"the\"]: 9\n",
      "padded token: 35180\n"
     ]
    }
   ],
   "source": [
    "# vocab translates from a word to a unique number\n",
    "print('vocab[\"the\"]:', vocab[\"the\"])\n",
    "# Pad token\n",
    "print('padded token:', vocab['<PAD>'])"
   ]
  },
  {
   "cell_type": "code",
   "execution_count": 21,
   "metadata": {},
   "outputs": [
    {
     "name": "stdout",
     "output_type": "stream",
     "text": [
      "vocab[\"the\"]: 10\n"
     ]
    }
   ],
   "source": [
    "###\n",
    "# vocab translates from a word to a unique number\n",
    "print('vocab[\"the\"]:', vocab_to_int[\"the\"])"
   ]
  },
  {
   "cell_type": "markdown",
   "metadata": {},
   "source": [
    "The tag_map corresponds to one of the possible tags a word can have. Run the cell below to see the possible classes you will be predicting. The prepositions in the tags mean:\n",
    "* I: Token is inside an entity.\n",
    "* B: Token begins an entity."
   ]
  },
  {
   "cell_type": "code",
   "execution_count": 22,
   "metadata": {},
   "outputs": [
    {
     "name": "stdout",
     "output_type": "stream",
     "text": [
      "{'O': 0, 'B-geo': 1, 'B-gpe': 2, 'B-per': 3, 'I-geo': 4, 'B-org': 5, 'I-org': 6, 'B-tim': 7, 'B-art': 8, 'I-art': 9, 'I-per': 10, 'I-gpe': 11, 'I-tim': 12, 'B-nat': 13, 'B-eve': 14, 'I-eve': 15, 'I-nat': 16}\n"
     ]
    }
   ],
   "source": [
    "print(tag_map)"
   ]
  },
  {
   "cell_type": "code",
   "execution_count": 23,
   "metadata": {},
   "outputs": [
    {
     "name": "stdout",
     "output_type": "stream",
     "text": [
      "{'B-org': 1, 'B-eve': 2, 'I-tim': 3, 'B-art': 4, 'I-gpe': 5, 'B-gpe': 6, 'I-art': 7, 'I-eve': 8, 'I-nat': 9, 'B-per': 10, 'I-geo': 11, 'I-per': 12, 'I-org': 13, 'O': 14, 'B-geo': 15, 'B-nat': 16, 'B-tim': 17}\n"
     ]
    }
   ],
   "source": [
    "###\n",
    "print(tag_to_int)"
   ]
  },
  {
   "cell_type": "markdown",
   "metadata": {},
   "source": [
    "So the coding scheme that tags the entities is a minimal one where B- indicates the first token in a multi-token entity, and I- indicates one in the middle of a multi-token entity. If you had the sentence \n",
    "\n",
    "**\"Sharon flew to Miami on Friday\"**\n",
    "\n",
    "the outputs would look like:\n",
    "\n",
    "```\n",
    "Sharon B-per\n",
    "flew   O\n",
    "to     O\n",
    "Miami  B-geo\n",
    "on     O\n",
    "Friday B-tim\n",
    "```\n",
    "\n",
    "your tags would reflect three tokens beginning with B-, since there are no multi-token entities in the sequence. But if you added Sharon's last name to the sentence: \n",
    "\n",
    "**\"Sharon Floyd flew to Miami on Friday\"**\n",
    "\n",
    "```\n",
    "Sharon B-per\n",
    "Floyd  I-per\n",
    "flew   O\n",
    "to     O\n",
    "Miami  B-geo\n",
    "on     O\n",
    "Friday B-tim\n",
    "```\n",
    "\n",
    "then your tags would change to show first \"Sharon\" as B-per, and \"Floyd\" as I-per, where I- indicates an inner token in a multi-token sequence."
   ]
  },
  {
   "cell_type": "code",
   "execution_count": 24,
   "metadata": {},
   "outputs": [
    {
     "name": "stdout",
     "output_type": "stream",
     "text": [
      "The number of outputs is tag_map 17\n",
      "Num of vocabulary words: 35181\n",
      "The vocab size is 35181\n",
      "The training size is 33570\n",
      "The validation size is 7194\n",
      "An example of the first sentence is [0, 1, 2, 3, 4, 5, 6, 7, 8, 9, 10, 11, 12, 13, 14, 9, 15, 1, 16, 17, 18, 19, 20, 21]\n",
      "An example of its corresponding label is [0, 0, 0, 0, 0, 0, 1, 0, 0, 0, 0, 0, 1, 0, 0, 0, 0, 0, 2, 0, 0, 0, 0, 0]\n"
     ]
    }
   ],
   "source": [
    "# Exploring information about the data\n",
    "print('The number of outputs is tag_map', len(tag_map))\n",
    "# The number of vocabulary tokens (including <PAD>)\n",
    "g_vocab_size = len(vocab)\n",
    "print(f\"Num of vocabulary words: {g_vocab_size}\")\n",
    "print('The vocab size is', len(vocab))\n",
    "print('The training size is', t_size)\n",
    "print('The validation size is', v_size)\n",
    "print('An example of the first sentence is', t_sentences[0])\n",
    "print('An example of its corresponding label is', t_labels[0])"
   ]
  },
  {
   "cell_type": "code",
   "execution_count": 25,
   "metadata": {},
   "outputs": [
    {
     "name": "stdout",
     "output_type": "stream",
     "text": [
      "The number of outputs is tag_map 17\n",
      "The vocab size is 35179\n",
      "The training size is 33571\n",
      "The validation size is 7193\n",
      "The validation size is 7195\n",
      "An example of the first sentence is [1, 2, 3, 4, 5, 6, 7, 8, 9, 10, 11, 12, 13, 14, 15, 10, 16, 2, 17, 18, 19, 20, 21, 22]\n",
      "An example of its corresponding label is [14, 14, 14, 14, 14, 14, 15, 14, 14, 14, 14, 14, 15, 14, 14, 14, 14, 14, 6, 14, 14, 14, 14, 14]\n"
     ]
    }
   ],
   "source": [
    "###\n",
    "# Exploring information about the data\n",
    "print('The number of outputs is tag_map', len(tag_to_int))\n",
    "# The number of vocabulary tokens (including <PAD>)\n",
    "g_vocab_size = len(vocab_to_int)\n",
    "#print(f\"Num of vocabulary words: {g_vocab_size}\")\n",
    "print(f'The vocab size is {g_vocab_size}')\n",
    "print(f'The training size is {train_len}')\n",
    "print(f'The validation size is {valid_len}')\n",
    "print(f'The validation size is {test_len}')\n",
    "print(f'An example of the first sentence is {train_sent[0]}')\n",
    "print(f'An example of its corresponding label is {train_label[0]}')"
   ]
  },
  {
   "cell_type": "markdown",
   "metadata": {},
   "source": [
    "So you can see that we have already encoded each sentence into a tensor by converting it into a number. We also have 16 possible classes, as shown in the tag map.\n",
    "\n",
    "\n",
    "<a name=\"1.2\"></a>\n",
    "## 1.2  Data generator\n",
    "\n",
    "In python, a generator is a function that behaves like an iterator. It will return the next item. Here is a [link](https://wiki.python.org/moin/Generators) to review python generators. \n",
    "\n",
    "In many AI applications it is very useful to have a data generator. You will now implement a data generator for our NER application.\n",
    "\n",
    "<a name=\"ex01\"></a>\n",
    "### Exercise 01\n",
    "\n",
    "**Instructions:** Implement a data generator function that takes in `batch_size, x, y, pad, shuffle` where x is a large list of sentences, and y is a list of the tags associated with those sentences and pad is a pad value. Return a subset of those inputs in a tuple of two arrays `(X,Y)`. Each is an array of dimension (`batch_size, max_len`), where `max_len` is the length of the longest sentence *in that batch*. You will pad the X and Y examples with the pad argument. If `shuffle=True`, the data will be traversed in a random form.\n",
    "\n",
    "**Details:**\n",
    "\n",
    "This code as an outer loop  \n",
    "```\n",
    "while True:  \n",
    "...  \n",
    "yield((X,Y))  \n",
    "```\n",
    "\n",
    "Which runs continuously in the fashion of generators, pausing when yielding the next values. We will generate a batch_size output on each pass of this loop.    \n",
    "\n",
    "It has two inner loops. \n",
    "1. The first stores in temporal lists the data samples to be included in the next batch, and finds the maximum length of the sentences contained in it. By adjusting the length to include only the size of the longest sentence in each batch, overall computation is reduced. \n",
    "\n",
    "2. The second loop moves those inputs from the temporal list into NumPy arrays pre-filled with pad values.\n",
    "\n",
    "There are three slightly out of the ordinary features. \n",
    "1. The first is the use of the NumPy `full` function to fill the NumPy arrays with a pad value. See [full function documentation](https://numpy.org/doc/1.18/reference/generated/numpy.full.html).\n",
    "\n",
    "2. The second is tracking the current location in the incoming lists of sentences. Generators variables hold their values between invocations, so we create an `index` variable, initialize to zero, and increment by one for each sample included in a batch. However, we do not use the `index` to access the positions of the list of sentences directly. Instead, we use it to select one index from a list of indexes. In this way, we can change the order in which we traverse our original list, keeping untouched our original list.  \n",
    "\n",
    "3. The third also relates to wrapping. Because `batch_size` and the length of the input lists are not aligned, gathering a batch_size group of inputs may involve wrapping back to the beginning of the input loop. In our approach, it is just enough to reset the `index` to 0. We can re-shuffle the list of indexes to produce different batches each time."
   ]
  },
  {
   "cell_type": "markdown",
   "metadata": {},
   "source": [
    "Batching"
   ]
  },
  {
   "cell_type": "code",
   "execution_count": 26,
   "metadata": {},
   "outputs": [],
   "source": [
    "###\n",
    "class EntityDataset:\n",
    "    def __init__(self, sentences, labels, pad):\n",
    "        # sentences: [[61, 249, 19, ..., 722, 21], [...]]\n",
    "        # labels: [[15, 15, 15, ..., 15, 15], [...]]\n",
    "        # pad - an integer representing a pad character\n",
    "        self.sentences = sentences\n",
    "        self.labels = labels\n",
    "        self.max_len = max([len(i) for i in self.sentences])\n",
    "        self.pad = pad\n",
    "        \n",
    "    def __len__(self):\n",
    "        return len(self.sentences)\n",
    "    \n",
    "    def __getitem__(self, item):\n",
    "        sentence = self.sentences[item] # get only one sentence\n",
    "        labels = self.labels[item]\n",
    "        \n",
    "        ids = []\n",
    "        target_tag = []\n",
    "        \n",
    "        mask = [1] * len(sentence)\n",
    "        token_type_ids = [0] * len(sentence)\n",
    "        \n",
    "        # right pads to the max_len in dataset(or batch) at\n",
    "        # the size of the longest sentence in each batch\n",
    "        padding_len = self.max_len - len(sentence)\n",
    "    \n",
    "        sentence = sentence + ([self.pad] * padding_len)\n",
    "        mask = mask + ([self.pad] * padding_len)\n",
    "        # Define sentence A and B indices associated to 1st and 2nd sentences\n",
    "        # [0, 0, ..., 1,...,1]\n",
    "        token_type_ids = token_type_ids + ([self.pad] * padding_len)\n",
    "        labels = labels + ([self.pad] * padding_len)\n",
    "        \n",
    "        return {\n",
    "            \"input_ids\": torch.tensor(sentence, dtype=torch.long),\n",
    "            \"token_type_ids\": torch.tensor(token_type_ids, dtype=torch.long),\n",
    "            \"attention_mask\": torch.tensor(mask, dtype=torch.long),  \n",
    "            \"labels\": torch.tensor(labels, dtype=torch.long)\n",
    "        }"
   ]
  },
  {
   "cell_type": "code",
   "execution_count": 27,
   "metadata": {},
   "outputs": [],
   "source": [
    "# Create Tensor datasets\n",
    "# similar as TensorDataset\n",
    "train_dataset = EntityDataset(\n",
    "    sentences=train_sent,\n",
    "    labels=train_label,\n",
    "    pad=0\n",
    ")\n",
    "\n",
    "valid_dataset = EntityDataset(\n",
    "    sentences=valid_sent,\n",
    "    labels=valid_label,\n",
    "    pad=0\n",
    ")\n",
    "test_dataset = EntityDataset(\n",
    "    sentences=test_sent,\n",
    "    labels=test_label,\n",
    "    pad=0\n",
    ")"
   ]
  },
  {
   "cell_type": "code",
   "execution_count": 28,
   "metadata": {},
   "outputs": [
    {
     "data": {
      "text/plain": [
       "{'input_ids': tensor([ 1,  2,  3,  4,  5,  6,  7,  8,  9, 10, 11, 12, 13, 14, 15, 10, 16,  2,\n",
       "         17, 18, 19, 20, 21, 22,  0,  0,  0,  0,  0,  0,  0,  0,  0,  0,  0,  0,\n",
       "          0,  0,  0,  0,  0,  0,  0,  0,  0,  0,  0,  0,  0,  0,  0,  0,  0,  0,\n",
       "          0,  0,  0,  0,  0,  0,  0,  0,  0,  0,  0,  0,  0,  0,  0,  0,  0,  0,\n",
       "          0,  0,  0,  0,  0,  0,  0,  0,  0,  0,  0,  0,  0,  0,  0,  0,  0,  0,\n",
       "          0,  0,  0,  0,  0,  0,  0,  0,  0,  0,  0,  0,  0,  0]),\n",
       " 'token_type_ids': tensor([0, 0, 0, 0, 0, 0, 0, 0, 0, 0, 0, 0, 0, 0, 0, 0, 0, 0, 0, 0, 0, 0, 0, 0,\n",
       "         0, 0, 0, 0, 0, 0, 0, 0, 0, 0, 0, 0, 0, 0, 0, 0, 0, 0, 0, 0, 0, 0, 0, 0,\n",
       "         0, 0, 0, 0, 0, 0, 0, 0, 0, 0, 0, 0, 0, 0, 0, 0, 0, 0, 0, 0, 0, 0, 0, 0,\n",
       "         0, 0, 0, 0, 0, 0, 0, 0, 0, 0, 0, 0, 0, 0, 0, 0, 0, 0, 0, 0, 0, 0, 0, 0,\n",
       "         0, 0, 0, 0, 0, 0, 0, 0]),\n",
       " 'attention_mask': tensor([1, 1, 1, 1, 1, 1, 1, 1, 1, 1, 1, 1, 1, 1, 1, 1, 1, 1, 1, 1, 1, 1, 1, 1,\n",
       "         0, 0, 0, 0, 0, 0, 0, 0, 0, 0, 0, 0, 0, 0, 0, 0, 0, 0, 0, 0, 0, 0, 0, 0,\n",
       "         0, 0, 0, 0, 0, 0, 0, 0, 0, 0, 0, 0, 0, 0, 0, 0, 0, 0, 0, 0, 0, 0, 0, 0,\n",
       "         0, 0, 0, 0, 0, 0, 0, 0, 0, 0, 0, 0, 0, 0, 0, 0, 0, 0, 0, 0, 0, 0, 0, 0,\n",
       "         0, 0, 0, 0, 0, 0, 0, 0]),\n",
       " 'labels': tensor([14, 14, 14, 14, 14, 14, 15, 14, 14, 14, 14, 14, 15, 14, 14, 14, 14, 14,\n",
       "          6, 14, 14, 14, 14, 14,  0,  0,  0,  0,  0,  0,  0,  0,  0,  0,  0,  0,\n",
       "          0,  0,  0,  0,  0,  0,  0,  0,  0,  0,  0,  0,  0,  0,  0,  0,  0,  0,\n",
       "          0,  0,  0,  0,  0,  0,  0,  0,  0,  0,  0,  0,  0,  0,  0,  0,  0,  0,\n",
       "          0,  0,  0,  0,  0,  0,  0,  0,  0,  0,  0,  0,  0,  0,  0,  0,  0,  0,\n",
       "          0,  0,  0,  0,  0,  0,  0,  0,  0,  0,  0,  0,  0,  0])}"
      ]
     },
     "execution_count": 28,
     "metadata": {},
     "output_type": "execute_result"
    }
   ],
   "source": [
    "train_dataset[0]"
   ]
  },
  {
   "cell_type": "code",
   "execution_count": 29,
   "metadata": {},
   "outputs": [],
   "source": [
    "TRAIN_BATCH_SIZE = 32\n",
    "VALID_BATCH_SIZE = 8\n",
    "TEST_BATCH_SIZE = 8"
   ]
  },
  {
   "cell_type": "code",
   "execution_count": 30,
   "metadata": {},
   "outputs": [],
   "source": [
    "# num_workers as a positive integer will turn on multi-process data loading \n",
    "# with the specified number of loader worker processes.\n",
    "train_dataloader = DataLoader(train_dataset, batch_size=TRAIN_BATCH_SIZE,\n",
    "                              shuffle=True, num_workers=4)\n",
    "valid_dataloader = DataLoader(valid_dataset, batch_size=VALID_BATCH_SIZE, \n",
    "                              shuffle=True, num_workers=1)\n",
    "test_dataloader = DataLoader(test_dataset, batch_size=TEST_BATCH_SIZE,  \n",
    "                             shuffle=True, num_workers=1)"
   ]
  },
  {
   "cell_type": "markdown",
   "metadata": {},
   "source": [
    "Take a look at a batch of data:"
   ]
  },
  {
   "cell_type": "code",
   "execution_count": 31,
   "metadata": {},
   "outputs": [
    {
     "data": {
      "text/plain": [
       "{'input_ids': tensor([[  551,  1973,  4827,  ...,     0,     0,     0],\n",
       "         [17194,   353,   969,  ...,     0,     0,     0],\n",
       "         [   50,   127,    10,  ...,     0,     0,     0],\n",
       "         ...,\n",
       "         [   43,   127,    10,  ...,     0,     0,     0],\n",
       "         [  346,  2873,     8,  ...,     0,     0,     0],\n",
       "         [ 2642,  1565,    94,  ...,     0,     0,     0]]),\n",
       " 'token_type_ids': tensor([[0, 0, 0,  ..., 0, 0, 0],\n",
       "         [0, 0, 0,  ..., 0, 0, 0],\n",
       "         [0, 0, 0,  ..., 0, 0, 0],\n",
       "         ...,\n",
       "         [0, 0, 0,  ..., 0, 0, 0],\n",
       "         [0, 0, 0,  ..., 0, 0, 0],\n",
       "         [0, 0, 0,  ..., 0, 0, 0]]),\n",
       " 'attention_mask': tensor([[1, 1, 1,  ..., 0, 0, 0],\n",
       "         [1, 1, 1,  ..., 0, 0, 0],\n",
       "         [1, 1, 1,  ..., 0, 0, 0],\n",
       "         ...,\n",
       "         [1, 1, 1,  ..., 0, 0, 0],\n",
       "         [1, 1, 1,  ..., 0, 0, 0],\n",
       "         [1, 1, 1,  ..., 0, 0, 0]]),\n",
       " 'labels': tensor([[14, 14, 14,  ...,  0,  0,  0],\n",
       "         [14, 14, 14,  ...,  0,  0,  0],\n",
       "         [14, 14, 14,  ...,  0,  0,  0],\n",
       "         ...,\n",
       "         [14, 14, 14,  ...,  0,  0,  0],\n",
       "         [14, 14, 14,  ...,  0,  0,  0],\n",
       "         [14, 17, 14,  ...,  0,  0,  0]])}"
      ]
     },
     "execution_count": 31,
     "metadata": {},
     "output_type": "execute_result"
    }
   ],
   "source": [
    "one_batch = next(iter(train_dataloader))\n",
    "one_batch"
   ]
  },
  {
   "cell_type": "code",
   "execution_count": 32,
   "metadata": {},
   "outputs": [
    {
     "name": "stdout",
     "output_type": "stream",
     "text": [
      "tensor([[  551,  1973,  4827,  ...,     0,     0,     0],\n",
      "        [17194,   353,   969,  ...,     0,     0,     0],\n",
      "        [   50,   127,    10,  ...,     0,     0,     0],\n",
      "        ...,\n",
      "        [   43,   127,    10,  ...,     0,     0,     0],\n",
      "        [  346,  2873,     8,  ...,     0,     0,     0],\n",
      "        [ 2642,  1565,    94,  ...,     0,     0,     0]]) \n",
      "\n",
      "Batch size: 32\n"
     ]
    }
   ],
   "source": [
    "print(one_batch['input_ids'], '\\n')\n",
    "print(f\"Batch size: {len(one_batch['input_ids'])}\")"
   ]
  },
  {
   "cell_type": "code",
   "execution_count": null,
   "metadata": {},
   "outputs": [],
   "source": []
  },
  {
   "cell_type": "code",
   "execution_count": null,
   "metadata": {},
   "outputs": [],
   "source": []
  },
  {
   "cell_type": "code",
   "execution_count": 33,
   "metadata": {},
   "outputs": [],
   "source": [
    "# UNQ_C1 (UNIQUE CELL IDENTIFIER, DO NOT EDIT)\n",
    "# GRADED FUNCTION: data_generator\n",
    "def data_generator(batch_size, x, y, pad, shuffle=False, verbose=False):\n",
    "    '''\n",
    "      Input: \n",
    "        batch_size - integer describing the batch size\n",
    "        x - list containing sentences where words are represented as integers\n",
    "        y - list containing tags associated with the sentences\n",
    "        shuffle - Shuffle the data order\n",
    "        pad - an integer representing a pad character\n",
    "        verbose - Print information during runtime\n",
    "      Output:\n",
    "        a tuple containing 2 elements:\n",
    "        X - np.ndarray of dim (batch_size, max_len) of padded sentences\n",
    "        Y - np.ndarray of dim (batch_size, max_len) of tags associated with the sentences in X\n",
    "    '''\n",
    "    \n",
    "    # count the number of lines in data_lines\n",
    "    num_lines = len(x)\n",
    "    \n",
    "    # create an array with the indexes of data_lines that can be shuffled\n",
    "    lines_index = [*range(num_lines)]\n",
    "    \n",
    "    # shuffle the indexes if shuffle is set to True\n",
    "    if shuffle:\n",
    "        rnd.shuffle(lines_index)\n",
    "    \n",
    "    index = 0 # tracks current location in x, y\n",
    "    while True:\n",
    "        buffer_x = [0] * batch_size # Temporal array to store the raw x data for this batch\n",
    "        buffer_y = [0] * batch_size # Temporal array to store the raw y data for this batch\n",
    "                \n",
    "  ### START CODE HERE (Replace instances of 'None' with your code) ###\n",
    "        \n",
    "        # Copy into the temporal buffers the sentences in x[index : index + batch_size] \n",
    "        # along with their corresponding labels y[index : index + batch_size]\n",
    "        # Find maximum length of sentences in x[index : index + batch_size] for this batch. \n",
    "        # Reset the index if we reach the end of the data set, and shuffle the indexes if needed.\n",
    "        max_len = 0\n",
    "        for i in range(batch_size):\n",
    "             # if the index is greater than or equal to the number of lines in x\n",
    "            if index >= num_lines:\n",
    "                # then reset the index to 0\n",
    "                index = 0\n",
    "                # re-shuffle the indexes if shuffle is set to True\n",
    "                if shuffle:\n",
    "                    rnd.shuffle(lines_index)\n",
    "            \n",
    "            # The current position is obtained using `lines_index[index]`\n",
    "            # Store the x value at the current position into the buffer_x\n",
    "            buffer_x[i] = x[lines_index[index]]\n",
    "            \n",
    "            # Store the y value at the current position into the buffer_y\n",
    "            buffer_y[i] = y[lines_index[index]]\n",
    "            \n",
    "            lenx = len(buffer_x[i])    #length of current x[]\n",
    "            if lenx > max_len:\n",
    "                max_len = lenx         #max_len tracks longest x[]\n",
    "            \n",
    "            # increment index by one\n",
    "            index += 1\n",
    "\n",
    "\n",
    "        # create X,Y, NumPy arrays of size (batch_size, max_len) 'full' of pad value\n",
    "        X = np.full((batch_size, max_len), pad)\n",
    "        Y = np.full((batch_size, max_len), pad)\n",
    "\n",
    "        # copy values from lists to NumPy arrays. Use the buffered values\n",
    "        for i in range(batch_size):\n",
    "            # get the example (sentence as a tensor)\n",
    "            # in `buffer_x` at the `i` index\n",
    "            x_i = buffer_x[i]\n",
    "            \n",
    "            # similarly, get the example's labels\n",
    "            # in `buffer_y` at the `i` index\n",
    "            y_i = buffer_y[i]\n",
    "            \n",
    "            # Walk through each word in x_i\n",
    "            for j in range(len(x_i)):\n",
    "                # store the word in x_i at position j into X\n",
    "                X[i, j] = x_i[j]\n",
    "                \n",
    "                # store the label in y_i at position j into Y\n",
    "                Y[i, j] = y_i[j]\n",
    "\n",
    "    ### END CODE HERE ###\n",
    "        if verbose: print(\"index=\", index)\n",
    "        yield((X,Y))"
   ]
  },
  {
   "cell_type": "code",
   "execution_count": 34,
   "metadata": {},
   "outputs": [
    {
     "name": "stdout",
     "output_type": "stream",
     "text": [
      "index= 5\n",
      "index= 2\n",
      "(5, 30) (5, 30) (5, 30) (5, 30)\n",
      "[    0     1     2     3     4     5     6     7     8     9    10    11\n",
      "    12    13    14     9    15     1    16    17    18    19    20    21\n",
      " 35180 35180 35180 35180 35180 35180] \n",
      " [    0     0     0     0     0     0     1     0     0     0     0     0\n",
      "     1     0     0     0     0     0     2     0     0     0     0     0\n",
      " 35180 35180 35180 35180 35180 35180]\n"
     ]
    }
   ],
   "source": [
    "batch_size = 5\n",
    "mini_sentences = t_sentences[0: 8]\n",
    "mini_labels = t_labels[0: 8]\n",
    "dg = data_generator(batch_size, mini_sentences, mini_labels, vocab[\"<PAD>\"], shuffle=False, verbose=True)\n",
    "X1, Y1 = next(dg)\n",
    "X2, Y2 = next(dg)\n",
    "print(Y1.shape, X1.shape, Y2.shape, X2.shape)\n",
    "print(X1[0][:], \"\\n\", Y1[0][:])"
   ]
  },
  {
   "cell_type": "markdown",
   "metadata": {},
   "source": [
    "**Expected output:**   \n",
    "```\n",
    "index= 5\n",
    "index= 2\n",
    "(5, 30) (5, 30) (5, 30) (5, 30)\n",
    "[    0     1     2     3     4     5     6     7     8     9    10    11\n",
    "    12    13    14     9    15     1    16    17    18    19    20    21\n",
    " 35180 35180 35180 35180 35180 35180] \n",
    " [    0     0     0     0     0     0     1     0     0     0     0     0\n",
    "     1     0     0     0     0     0     2     0     0     0     0     0\n",
    " 35180 35180 35180 35180 35180 35180]  \n",
    "```"
   ]
  },
  {
   "cell_type": "code",
   "execution_count": 35,
   "metadata": {},
   "outputs": [
    {
     "name": "stdout",
     "output_type": "stream",
     "text": [
      "torch.Size([5, 35]) torch.Size([5, 35]) torch.Size([5, 35]) torch.Size([5, 35])\n",
      "tensor([943, 944, 364, 945, 345, 946,  12,  10, 947, 249, 201,  94, 252, 318,\n",
      "        948, 194, 181, 949,   8,   4, 333,   8, 950, 135, 377, 306, 312,  12,\n",
      "        951, 544, 545,  22,   0,   0,   0]) \n",
      " tensor([14, 14, 17, 14, 14, 14, 14, 14, 15, 14, 14, 14, 14, 14,  1, 14, 14, 14,\n",
      "        14, 14, 14, 14, 14, 14, 14, 14, 14, 14, 14, 15, 11, 14,  0,  0,  0])\n"
     ]
    }
   ],
   "source": [
    "###\n",
    "BATCH_SIZE = 5\n",
    "mini_sentences = train_sent[0: 8]\n",
    "mini_labels = train_label[0: 8]\n",
    "mini_dataset = EntityDataset(mini_sentences, mini_labels, pad=0)\n",
    "mini_dataloader = DataLoader(mini_dataset, batch_size=BATCH_SIZE, shuffle=True)\n",
    "batch1 = next(iter(mini_dataloader))\n",
    "batch2 = next(iter(mini_dataloader))\n",
    "print(batch1['input_ids'].shape, batch1['labels'].shape, batch2['input_ids'].shape, batch2['labels'].shape)\n",
    "#print(Y1.shape, X1.shape, Y2.shape, X2.shape\n",
    "print(batch1['input_ids'][0], \"\\n\", batch1['labels'][0])\n",
    "#print(X1[0][:], \"\\n\", Y1[0][:])"
   ]
  },
  {
   "cell_type": "code",
   "execution_count": null,
   "metadata": {},
   "outputs": [],
   "source": []
  },
  {
   "cell_type": "markdown",
   "metadata": {},
   "source": [
    "<a name=\"2\"></a>\n",
    "# Part 2:  Building the model\n",
    "\n",
    "You will now implement the model. You will be using Google's TensorFlow. Your model will be able to distinguish the following:\n",
    "<table>\n",
    "    <tr>\n",
    "        <td>\n",
    "<img src = 'ner1.png' width=\"width\" height=\"height\" style=\"width:500px;height:150px;\"/>\n",
    "        </td>\n",
    "    </tr>\n",
    "</table>\n",
    "\n",
    "The model architecture will be as follows: \n",
    "\n",
    "<img src = 'ner2.png' width=\"width\" height=\"height\" style=\"width:600px;height:250px;\"/>\n",
    "\n",
    "Concretely: \n",
    "\n",
    "* Use the input tensors you built in your data generator\n",
    "* Feed it into an Embedding layer, to produce more semantic entries\n",
    "* Feed it into an LSTM layer\n",
    "* Run the output through a linear layer\n",
    "* Run the result through a log softmax layer to get the predicted class for each word.\n",
    "\n",
    "Good news! We won't make you implement the LSTM unit drawn above. However, we will ask you to build the model. \n",
    "\n",
    "<a name=\"ex02\"></a>\n",
    "### Exercise 02\n",
    "\n",
    "**Instructions:** Implement the initialization step and the forward function of your Named Entity Recognition system.  \n",
    "Please utilize help function e.g. `help(tl.Dense)` for more information on a layer\n",
    "   \n",
    "- [tl.Serial](https://github.com/google/trax/blob/1372b903bb66b0daccee19fd0b1fdf44f659330b/trax/layers/combinators.py#L26): Combinator that applies layers serially (by function composition).\n",
    "    - You can pass in the layers as arguments to `Serial`, separated by commas. \n",
    "    - For example: `tl.Serial(tl.Embeddings(...), tl.Mean(...), tl.Dense(...), tl.LogSoftmax(...))` \n",
    "\n",
    "\n",
    "-  [tl.Embedding](https://github.com/google/trax/blob/1372b903bb66b0daccee19fd0b1fdf44f659330b/trax/layers/core.py#L113): Initializes the embedding. In this case it is the dimension of the model by the size of the vocabulary. \n",
    "    - `tl.Embedding(vocab_size, d_feature)`.\n",
    "    - `vocab_size` is the number of unique words in the given vocabulary.\n",
    "    - `d_feature` is the number of elements in the word embedding (some choices for a word embedding size range from 150 to 300, for example).\n",
    "    \n",
    "\n",
    "-  [tl.LSTM](https://github.com/google/trax/blob/1372b903bb66b0daccee19fd0b1fdf44f659330b/trax/layers/rnn.py#L87):`Trax` LSTM layer of size d_model. \n",
    "    - `LSTM(n_units)` Builds an LSTM layer of n_cells.\n",
    "\n",
    "\n",
    "\n",
    "-  [tl.Dense](https://github.com/google/trax/blob/1372b903bb66b0daccee19fd0b1fdf44f659330b/trax/layers/core.py#L28):  A dense layer.\n",
    "    - `tl.Dense(n_units)`: The parameter `n_units` is the number of units chosen for this dense layer.  \n",
    "\n",
    "\n",
    "- [tl.LogSoftmax](https://github.com/google/trax/blob/1372b903bb66b0daccee19fd0b1fdf44f659330b/trax/layers/core.py#L242): Log of the output probabilities.\n",
    "    - Here, you don't need to set any parameters for `LogSoftMax()`.\n",
    " \n",
    "\n",
    "- `init_hidden` should initialize the hidden and cell state of an lstm layer to all zeros, and move those state to GPU, if available.\n",
    " \n",
    "\n",
    "**Online documentation and some references** \n",
    "\n",
    "- [tl.Serial](https://trax-ml.readthedocs.io/en/latest/trax.layers.html#module-trax.layers.combinators)\n",
    "\n",
    "- [tl.Embedding](https://trax-ml.readthedocs.io/en/latest/trax.layers.html#trax.layers.core.Embedding)\n",
    "\n",
    "-  [tl.LSTM](https://trax-ml.readthedocs.io/en/latest/trax.layers.html#trax.layers.rnn.LSTM)\n",
    "\n",
    "-  [tl.Dense](https://trax-ml.readthedocs.io/en/latest/trax.layers.html#trax.layers.core.Dense)\n",
    "\n",
    "- [tl.LogSoftmax](https://trax-ml.readthedocs.io/en/latest/trax.layers.html#trax.layers.core.LogSoftmax)\n",
    "\n",
    "\n",
    "- [nn.Embedding](https://pytorch.org/docs/stable/generated/torch.nn.Embedding.html)\n",
    "    - Inputs: arbitrary shape. we use vocab_size mostly\n",
    "    - Outputs: (input shape, embedding_dim)\n",
    "\n",
    "- [nn.LSTM](https://pytorch.org/docs/stable/generated/torch.nn.LSTM.html#torch.nn.LSTM)\n",
    "    - Inputs: 1.input (n_batch, input_size)  2.(h_0, c_0) ((n_batch, hidden_dim), (n_batch, hidden_dim))\n",
    "    - Outputs: 1.output (n_batch, hidden_dim)  2.(h_n, c_n) ((n_batch, hidden_dim), (n_batch, hidden_dim))\n",
    "\n",
    "- [nn.Linear](https://pytorch.org/docs/stable/generated/torch.nn.Linear.html#torch.nn.Linear)\n",
    "\n",
    "- [nn.functional.log_softmax](https://pytorch.org/docs/stable/generated/torch.nn.functional.log_softmax.html)\n",
    "\n",
    "- [nn.LogSoftmax](https://pytorch.org/docs/stable/generated/torch.nn.LogSoftmax.html)\n",
    "\n",
    "\n",
    "* [What does `next(self.parameters()).data` mean?](https://discuss.pytorch.org/t/what-does-next-self-parameters-data-mean/1458/2)\n",
    "* [Shape of pytorch model.parameter is inconsistent with how it's defined in the model](https://stackoverflow.com/questions/53462493/shape-of-pytorch-model-parameter-is-inconsistent-with-how-its-defined-in-the-mo)"
   ]
  },
  {
   "cell_type": "code",
   "execution_count": 36,
   "metadata": {},
   "outputs": [],
   "source": [
    "class NER(nn.Module):\n",
    "    \"\"\"\n",
    "      Input: \n",
    "        vocab_size - integer containing the size of the vocabulary\n",
    "        d_model - integer describing the embedding size (it's equal to hidden_dim here)\n",
    "      Output:\n",
    "        model - a torch serial model\n",
    "    \"\"\"    \n",
    "    def __init__(self, vocab_size, embedding_dim, hidden_dim, tags=tag_to_int):\n",
    "        super(NER, self).__init__()\n",
    "        self.vocab_size = vocab_size\n",
    "        self.embedding_dim = embedding_dim\n",
    "        self.hidden_dim = hidden_dim\n",
    "        self.tags = tags\n",
    "    \n",
    "        # embedding layer  \n",
    "        self.embedding = nn.Embedding(vocab_size, embedding_dim)\n",
    "        #self.lstm = nn.LSTM(vocab_size, d_model, batch_first=True)\n",
    "        self.lstm = nn.LSTM(embedding_dim, hidden_dim, batch_first=True)\n",
    "        self.fc = nn.Linear(hidden_dim, len(self.tags))\n",
    "    \n",
    "    \n",
    "    def forward(self, x, hidden):\n",
    "        embed_input = self.embedding(x) # embed.shape: \n",
    "        # the hidden should be initiate by below method\n",
    "        # lstm_out.shape:[batch_size, d_model] \n",
    "        lstm_out, hidden = self.lstm(embed_input, hidden) \n",
    "        out = F.log_softmax(self.fc(lstm_out), axis=1)\n",
    "        \n",
    "        return out, hidden\n",
    "        \n",
    "    \n",
    "    def init_hidden(self, batch_size, device):\n",
    "        ''' Initializes hidden state '''\n",
    "        # Create two new tensors with sizes n_layers x batch_size x n_hidden,\n",
    "        # initialized to zero, for hidden state and cell state of LSTM\n",
    "        weight = next(self.parameters()).data # weight.shape is [len(vocab_size), d_model] here\n",
    "        \n",
    "        # weight.new() creates a tensor that has the same data type, same device as the \n",
    "        # produced parameter.\n",
    "        hidden = (weight.new(batch_size, self.hidden_dim).zero_().to(device),\n",
    "                  weight.new(batch_size, self.hidden_dim).zero_().to(device))\n",
    "        \n",
    "        return hidden"
   ]
  },
  {
   "cell_type": "code",
   "execution_count": 37,
   "metadata": {},
   "outputs": [
    {
     "name": "stdout",
     "output_type": "stream",
     "text": [
      "NER(\n",
      "  (embedding): Embedding(35180, 200)\n",
      "  (lstm): LSTM(200, 64, batch_first=True)\n",
      "  (fc): Linear(in_features=64, out_features=17, bias=True)\n",
      ")\n"
     ]
    }
   ],
   "source": [
    "# Instantiate the model w/ parameters\n",
    "vocab_size = len(vocab_to_int) + 1 # +1 for the 0 padding\n",
    "embedding_dim = 200 \n",
    "hidden_dim = 64\n",
    "tags = tag_to_int\n",
    "\n",
    "model = NER(vocab_size, embedding_dim, hidden_dim, tag_to_int)\n",
    "\n",
    "print(model)"
   ]
  },
  {
   "cell_type": "markdown",
   "metadata": {},
   "source": [
    "**variables (or parameters)**\n",
    "\n",
    " - **~Embedding.weight** – the learnable weights of the module of shape (num_embeddings, embedding_dim)\n",
    " - **~LSTM.weight_ih_l[k]** – the learnable input-hidden weights of the $k^{th}$ layer (W_ii|W_if|W_ig|W_io), of shape (4 *hidden_size, input_size) for k = 0. Otherwise, the shape is (4 *hidden_size, num_directions * hidden_size)\n",
    " - **~LSTM.weight_hh_l[k]** – the learnable hidden-hidden weights of the $k^{th}$ layer (W_hi|W_hf|W_hg|W_ho), of shape (4 *hidden_size, hidden_size). If proj_size > 0 was specified, the shape will be (4 *hidden_size, proj_size).\n",
    " - **~LSTM.bias_ih_l[k]** – the learnable input-hidden bias of the $k^{th}$ layer (b_ii|b_if|b_ig|b_io), of shape (4 *hidden_size)\n",
    " - **~LSTM.bias_hh_l[k]** – the learnable hidden-hidden bias of the $k^{th}$ layer (b_hi|b_hf|b_hg|b_ho), of shape (4 *hidden_size)\n",
    " - **~LSTM.weight_hr_l[k]** – the learnable projection weights of the $k^{th}$ layer of shape (proj_size, hidden_size). Only present when proj_size > 0 was specified.\n",
    "\n",
    "torch.Size([256, 64])  \n",
    "256 = 4 * 64, but why it'll multiply 64 with 4? Is't because there're 4 gates in lstm."
   ]
  },
  {
   "cell_type": "code",
   "execution_count": 38,
   "metadata": {},
   "outputs": [
    {
     "name": "stdout",
     "output_type": "stream",
     "text": [
      "embedding.weight \t torch.Size([35180, 200])\n",
      "lstm.weight_ih_l0 \t torch.Size([256, 200])\n",
      "lstm.weight_hh_l0 \t torch.Size([256, 64])\n",
      "lstm.bias_ih_l0 \t torch.Size([256])\n",
      "lstm.bias_hh_l0 \t torch.Size([256])\n",
      "fc.weight \t torch.Size([17, 64])\n",
      "fc.bias \t torch.Size([17])\n"
     ]
    }
   ],
   "source": [
    "for name, param in model.named_parameters():\n",
    "    print(name, '\\t', param.size())"
   ]
  },
  {
   "cell_type": "code",
   "execution_count": 39,
   "metadata": {},
   "outputs": [
    {
     "name": "stdout",
     "output_type": "stream",
     "text": [
      "embedding.weight \t torch.Size([35180, 200])\n",
      "lstm.weight_ih_l0 \t torch.Size([256, 200])\n",
      "lstm.weight_hh_l0 \t torch.Size([256, 64])\n",
      "lstm.bias_ih_l0 \t torch.Size([256])\n",
      "lstm.bias_hh_l0 \t torch.Size([256])\n",
      "fc.weight \t torch.Size([17, 64])\n",
      "fc.bias \t torch.Size([17])\n"
     ]
    }
   ],
   "source": [
    "for param_tensor in model.state_dict():\n",
    "    print(param_tensor, \"\\t\", model.state_dict()[param_tensor].size())"
   ]
  },
  {
   "cell_type": "code",
   "execution_count": 40,
   "metadata": {},
   "outputs": [
    {
     "name": "stdout",
     "output_type": "stream",
     "text": [
      "embedding.weight \n",
      " torch.Size([35180, 200]) \n",
      " tensor([[-0.2052,  0.6658,  1.2044,  ..., -0.2152, -0.5420,  0.2550],\n",
      "        [ 0.6301, -0.0563, -1.5983,  ..., -0.4648, -0.4349,  1.9664],\n",
      "        [ 1.4734, -1.4515,  1.4665,  ..., -0.7324,  0.8249, -0.2460],\n",
      "        ...,\n",
      "        [-0.6196, -0.0993, -1.0652,  ...,  0.6127,  1.8177, -0.3873],\n",
      "        [ 0.8532,  1.7603,  1.7364,  ..., -0.6712, -0.8450, -0.1781],\n",
      "        [ 0.5690,  0.3155,  0.1205,  ..., -0.4387, -0.5492,  1.2585]]) \n",
      "\n",
      "\n",
      "lstm.weight_ih_l0 \n",
      " torch.Size([256, 200]) \n",
      " tensor([[-0.0520, -0.1225, -0.0171,  ..., -0.0472,  0.0785, -0.0587],\n",
      "        [ 0.0616,  0.1213, -0.0496,  ..., -0.0644, -0.0577, -0.0474],\n",
      "        [ 0.1047,  0.0930,  0.0394,  ...,  0.1028, -0.1142, -0.0591],\n",
      "        ...,\n",
      "        [ 0.1175,  0.0913,  0.0104,  ..., -0.0026, -0.0795,  0.0922],\n",
      "        [-0.0764,  0.0722,  0.0676,  ...,  0.0465, -0.0416, -0.0185],\n",
      "        [ 0.0661,  0.1204, -0.0964,  ...,  0.0973,  0.0522,  0.1221]]) \n",
      "\n",
      "\n",
      "lstm.weight_hh_l0 \n",
      " torch.Size([256, 64]) \n",
      " tensor([[-0.0950,  0.1158, -0.0425,  ..., -0.0939,  0.0770, -0.1051],\n",
      "        [-0.0130,  0.0098,  0.1019,  ...,  0.0239, -0.1125,  0.0935],\n",
      "        [ 0.0046,  0.0372, -0.0736,  ..., -0.0866, -0.0145, -0.0465],\n",
      "        ...,\n",
      "        [ 0.1084, -0.0478, -0.0820,  ..., -0.1127, -0.0418, -0.1098],\n",
      "        [-0.1098,  0.0338,  0.0920,  ...,  0.0087, -0.0360,  0.0984],\n",
      "        [-0.0534, -0.0863, -0.0913,  ...,  0.0023,  0.0321,  0.0487]]) \n",
      "\n",
      "\n",
      "lstm.bias_ih_l0 \n",
      " torch.Size([256]) \n",
      " tensor([ 6.1441e-02, -1.9118e-02, -4.2031e-02, -1.9292e-02,  7.6612e-02,\n",
      "         5.7001e-02, -9.4588e-02, -2.3278e-02, -1.1369e-01, -4.7028e-02,\n",
      "        -8.6614e-02,  1.1989e-01,  5.5176e-02,  6.4928e-02, -8.3001e-02,\n",
      "         2.2376e-02,  6.2366e-03,  3.7933e-03,  2.4963e-02, -6.2939e-02,\n",
      "         4.1557e-02, -4.4418e-02, -1.9700e-03,  6.3622e-02,  4.3313e-02,\n",
      "         5.9350e-02, -8.3122e-02, -7.9788e-02,  3.4203e-02,  3.3683e-02,\n",
      "         6.2253e-02,  1.0378e-01, -6.8291e-04,  1.1636e-02, -2.9154e-02,\n",
      "         1.1483e-01,  6.9813e-02,  1.1902e-01,  7.3787e-02,  5.9296e-02,\n",
      "         4.2310e-02,  7.2384e-02, -9.6466e-02, -3.6875e-03,  4.1937e-02,\n",
      "        -3.3161e-02, -2.6797e-02,  1.0072e-01,  3.5183e-02, -8.8604e-02,\n",
      "        -1.9245e-02, -5.1328e-02,  4.6465e-02, -7.5257e-02, -2.2047e-02,\n",
      "         1.4775e-02, -3.4771e-02,  8.6581e-02, -1.1964e-01,  1.2396e-01,\n",
      "         1.0983e-01, -4.9109e-02, -1.1617e-04,  9.4753e-02,  4.7051e-02,\n",
      "         2.7061e-02, -4.9180e-02,  4.4687e-03,  1.0246e-01, -1.2311e-01,\n",
      "         1.9072e-02, -9.9994e-02,  5.5485e-02, -7.2741e-02,  7.1854e-02,\n",
      "         4.5250e-02,  6.9004e-02, -8.6824e-02, -1.2017e-01,  9.0441e-03,\n",
      "         1.4503e-02,  3.4245e-02, -1.1074e-01, -1.2908e-02, -9.4875e-02,\n",
      "         1.6212e-02,  2.9040e-03,  1.2110e-01,  2.4722e-02, -4.3477e-02,\n",
      "         6.3823e-02,  1.9285e-02, -1.0499e-01,  8.7070e-03,  2.2119e-02,\n",
      "         5.3167e-02, -9.1613e-02, -3.5477e-02, -1.0640e-01,  9.9518e-02,\n",
      "         1.2247e-03, -1.9163e-02,  1.1127e-01,  2.5764e-02,  1.9011e-02,\n",
      "        -9.5894e-02, -1.2181e-01, -9.7715e-03, -4.4759e-02,  4.0432e-02,\n",
      "         2.7964e-02,  1.0545e-01,  7.5355e-02,  9.4114e-02,  1.1676e-02,\n",
      "        -1.7876e-02, -5.5609e-02, -1.7186e-02,  1.0008e-01, -3.1772e-02,\n",
      "        -1.0365e-01, -1.0905e-01, -2.9074e-02,  7.8738e-02, -6.1592e-02,\n",
      "        -4.5716e-02, -2.8948e-02, -3.9265e-02, -1.1995e-01, -1.1136e-01,\n",
      "         9.5708e-03,  5.2511e-02, -3.6339e-02, -5.0916e-03,  1.1790e-01,\n",
      "         9.8738e-02,  7.5844e-02,  9.6683e-02,  5.2500e-02,  5.1299e-02,\n",
      "        -3.5730e-02, -9.8255e-02,  8.0863e-02, -9.5142e-02, -1.0610e-01,\n",
      "         1.0174e-01,  6.5357e-02,  1.5434e-02, -8.5564e-02, -3.7979e-02,\n",
      "        -6.9235e-02, -1.1262e-01,  6.5488e-02, -6.7744e-02, -8.3379e-02,\n",
      "        -6.3960e-02, -1.0699e-01, -1.1983e-01, -5.7975e-02,  1.3457e-02,\n",
      "         1.2238e-01,  9.3736e-02,  7.8208e-02,  9.9560e-02,  4.8075e-02,\n",
      "        -6.7229e-02, -3.6317e-02,  6.0173e-02, -1.0031e-01,  4.2465e-02,\n",
      "         9.8140e-02, -6.3542e-02, -6.6321e-02,  1.0584e-01,  8.3172e-02,\n",
      "        -4.4297e-02, -5.5920e-02, -2.5090e-02,  9.5217e-02, -7.7566e-02,\n",
      "         1.6392e-02, -8.9468e-04,  1.3420e-02, -9.6006e-02, -5.7527e-02,\n",
      "         2.2038e-02, -1.3806e-02,  4.2848e-02, -7.1069e-02,  7.0747e-02,\n",
      "         1.1068e-01,  8.7330e-02, -1.1679e-01,  9.0009e-02,  1.6121e-03,\n",
      "        -1.1899e-01,  5.3773e-02,  9.3669e-02,  5.5434e-02, -3.2462e-02,\n",
      "         1.1597e-01, -8.1471e-02, -1.5949e-02,  1.0341e-01, -4.8739e-02,\n",
      "        -4.8889e-02, -9.2514e-02, -4.9177e-02,  3.7563e-02, -1.1565e-01,\n",
      "         4.6937e-02,  5.0138e-02, -6.3627e-02,  1.4368e-02,  7.6403e-02,\n",
      "         1.6962e-02, -9.5635e-02, -1.1538e-01, -6.0893e-02, -3.6980e-02,\n",
      "         9.0371e-03, -2.6987e-02,  1.1177e-01,  9.8515e-04,  3.5503e-02,\n",
      "        -7.3849e-02, -6.5249e-03, -9.9959e-02, -1.1844e-01,  7.9358e-02,\n",
      "         2.3586e-02, -3.3223e-02,  9.9518e-02, -1.0771e-01, -9.5518e-02,\n",
      "         7.5371e-03, -5.8964e-02,  9.0783e-02,  1.1289e-01, -9.9853e-02,\n",
      "         9.9974e-02, -5.9843e-02, -3.0104e-02,  5.1730e-02,  1.1984e-01,\n",
      "         2.5839e-02,  6.4103e-02, -6.0813e-02,  1.2415e-01,  3.5208e-02,\n",
      "         2.0664e-02,  1.1477e-01,  1.1615e-01, -3.1313e-02, -1.0942e-01,\n",
      "        -6.6680e-02]) \n",
      "\n",
      "\n",
      "lstm.bias_hh_l0 \n",
      " torch.Size([256]) \n",
      " tensor([ 0.0819, -0.0428, -0.0811, -0.0571, -0.0957,  0.1164,  0.0122,  0.0820,\n",
      "        -0.0207, -0.0035, -0.0374,  0.0718, -0.1064, -0.1077,  0.0020,  0.0354,\n",
      "        -0.0178,  0.0553, -0.0171,  0.0981, -0.0542, -0.0446,  0.0625,  0.0785,\n",
      "         0.0926, -0.1132, -0.1045,  0.0253,  0.1103, -0.0266,  0.1009, -0.0264,\n",
      "        -0.1223, -0.0367, -0.1068,  0.1087,  0.0718,  0.0665, -0.1143,  0.0066,\n",
      "         0.0996, -0.0333,  0.1145,  0.0538, -0.0278, -0.1223, -0.0653,  0.1061,\n",
      "         0.0974,  0.0736,  0.0444,  0.0900, -0.0692,  0.1152, -0.0753,  0.1151,\n",
      "        -0.0831, -0.0763, -0.0509, -0.0630,  0.1113, -0.0435, -0.0334,  0.0376,\n",
      "         0.1222,  0.0249,  0.0563,  0.0263, -0.1068,  0.0261,  0.0221, -0.0980,\n",
      "        -0.1150, -0.0648, -0.0883, -0.1037, -0.0909, -0.0974, -0.0622, -0.0245,\n",
      "        -0.0219,  0.0826, -0.0553,  0.0436, -0.0901, -0.1050, -0.0540,  0.0514,\n",
      "         0.1012, -0.0580, -0.0643, -0.0085,  0.0169,  0.0250, -0.0936, -0.0197,\n",
      "         0.1032,  0.0330, -0.0053,  0.0028,  0.0689,  0.0110,  0.0520, -0.0954,\n",
      "         0.0094, -0.0724, -0.1044,  0.0026, -0.0385, -0.0046, -0.0854,  0.0845,\n",
      "        -0.1033,  0.0555,  0.0661,  0.1176, -0.0535, -0.1110,  0.0193, -0.1162,\n",
      "        -0.0303,  0.0670, -0.0600, -0.0578,  0.0198, -0.0490, -0.0158, -0.0260,\n",
      "        -0.0888,  0.0252, -0.0523, -0.1187, -0.0920,  0.0919,  0.0541,  0.0185,\n",
      "        -0.1041, -0.1206, -0.0888,  0.0624, -0.1056,  0.0856,  0.1113,  0.1043,\n",
      "        -0.0473,  0.0297, -0.0510, -0.1179,  0.0797,  0.0611,  0.0380,  0.0532,\n",
      "         0.0266, -0.0205, -0.0384,  0.0929, -0.0283, -0.0243, -0.0189,  0.1022,\n",
      "         0.0262, -0.1195, -0.0842, -0.0632, -0.0010,  0.1176, -0.1130,  0.0250,\n",
      "        -0.1079, -0.0321, -0.0857, -0.1075,  0.0650, -0.0927,  0.0401,  0.0423,\n",
      "         0.0699,  0.0144,  0.0084,  0.0976, -0.0950,  0.0377,  0.0521, -0.0711,\n",
      "        -0.0211,  0.1233, -0.0966,  0.0368, -0.0925, -0.0827,  0.0503, -0.0260,\n",
      "         0.0165,  0.0405,  0.0798,  0.0934,  0.0360, -0.0425,  0.0695, -0.0526,\n",
      "        -0.0671, -0.0401, -0.0011, -0.0922,  0.0646,  0.1115,  0.0563,  0.0029,\n",
      "         0.1121,  0.1120, -0.0460,  0.1119, -0.1172, -0.1068, -0.0599, -0.0851,\n",
      "        -0.0637,  0.0159,  0.1155,  0.0297,  0.0847, -0.1217,  0.1049, -0.0994,\n",
      "         0.0366, -0.0241,  0.0203,  0.1098,  0.1221,  0.1108,  0.0567, -0.1018,\n",
      "        -0.0912, -0.0253,  0.0131, -0.0336,  0.0254, -0.0217, -0.1058, -0.0608,\n",
      "        -0.1019, -0.1217,  0.0770,  0.0700,  0.0789, -0.1002, -0.0336, -0.0916,\n",
      "        -0.0184, -0.0531,  0.1167, -0.0601,  0.0235,  0.0781,  0.0392, -0.1095]) \n",
      "\n",
      "\n",
      "fc.weight \n",
      " torch.Size([17, 64]) \n",
      " tensor([[ 0.1209,  0.0255, -0.0393,  ...,  0.0943,  0.0086, -0.0455],\n",
      "        [ 0.0698, -0.0313, -0.0506,  ...,  0.0065,  0.0431, -0.1150],\n",
      "        [ 0.0655,  0.0988, -0.0952,  ..., -0.0301, -0.1176, -0.1057],\n",
      "        ...,\n",
      "        [-0.0560,  0.0790, -0.0027,  ...,  0.0507, -0.1110, -0.0805],\n",
      "        [ 0.0934,  0.0055, -0.0380,  ..., -0.0272,  0.0070, -0.1013],\n",
      "        [-0.0861,  0.0935,  0.0056,  ..., -0.1076,  0.0882, -0.0993]]) \n",
      "\n",
      "\n",
      "fc.bias \n",
      " torch.Size([17]) \n",
      " tensor([ 0.0853,  0.0274,  0.0424,  0.0109,  0.0821,  0.0253, -0.0157,  0.0780,\n",
      "         0.1228,  0.0544,  0.0523, -0.1173,  0.0902, -0.0035,  0.1215, -0.0336,\n",
      "        -0.0333]) \n",
      "\n",
      "\n"
     ]
    }
   ],
   "source": [
    "for name, param in model.named_parameters():\n",
    "    if param.requires_grad:\n",
    "        print(name, '\\n', param.size(), '\\n', param.data, '\\n\\n')"
   ]
  },
  {
   "cell_type": "markdown",
   "metadata": {},
   "source": [
    "<a name=\"3\"></a>\n",
    "# Part 3:  Train the Model \n",
    "\n",
    "This section will train your model."
   ]
  },
  {
   "cell_type": "code",
   "execution_count": 41,
   "metadata": {},
   "outputs": [],
   "source": [
    "from trax.supervised import training\n",
    "\n",
    "rnd.seed(33)\n",
    "\n",
    "batch_size = 64\n",
    "\n",
    "# Create training data, mask pad id=35180 for training.\n",
    "train_generator = trax.supervised.inputs.add_loss_weights(\n",
    "    data_generator(batch_size, t_sentences, t_labels, vocab['<PAD>'], True),\n",
    "    id_to_mask=vocab['<PAD>'])\n",
    "\n",
    "# Create validation data, mask pad id=35180 for training.\n",
    "eval_generator = trax.supervised.inputs.add_loss_weights(\n",
    "    data_generator(batch_size, v_sentences, v_labels, vocab['<PAD>'], True),\n",
    "    id_to_mask=vocab['<PAD>'])"
   ]
  },
  {
   "cell_type": "code",
   "execution_count": 42,
   "metadata": {},
   "outputs": [
    {
     "data": {
      "text/plain": [
       "<generator object add_loss_weights at 0x7f801c1e0de0>"
      ]
     },
     "execution_count": 42,
     "metadata": {},
     "output_type": "execute_result"
    }
   ],
   "source": [
    "train_generator"
   ]
  },
  {
   "cell_type": "code",
   "execution_count": 43,
   "metadata": {},
   "outputs": [],
   "source": [
    "# UNQ_C3 (UNIQUE CELL IDENTIFIER, DO NOT EDIT)\n",
    "# GRADED FUNCTION: train_model\n",
    "def train_model(NER, train_generator, eval_generator, train_steps=1, output_dir='model'):\n",
    "    '''\n",
    "    Input: \n",
    "        NER - the model you are building\n",
    "        train_generator - The data generator for training examples\n",
    "        eval_generator - The data generator for validation examples,\n",
    "        train_steps - number of training steps\n",
    "        output_dir - folder to save your model\n",
    "    Output:\n",
    "        training_loop - a trax supervised training Loop\n",
    "    '''\n",
    "    ### START CODE HERE (Replace instances of 'None' with your code) ###\n",
    "    train_task = training.TrainTask(\n",
    "      train_generator, # A train data generator\n",
    "      loss_layer = tl.CrossEntropyLoss(), # A cross-entropy loss function\n",
    "      optimizer = trax.optimizers.Adam(0.01),  # The adam optimizer\n",
    "    )\n",
    "\n",
    "    eval_task = training.EvalTask(\n",
    "      labeled_data = eval_generator, # A labeled data generator\n",
    "      metrics = [tl.CrossEntropyLoss(), tl.Accuracy()], # Evaluate with cross-entropy loss and accuracy\n",
    "      n_eval_batches = 10 # Number of batches to use on each evaluation\n",
    "    )\n",
    "\n",
    "    training_loop = training.Loop(\n",
    "        NER, # A model to train\n",
    "        train_task, # A train task\n",
    "        eval_task = eval_task, # The evaluation task\n",
    "        output_dir = output_dir) # The output directory\n",
    "\n",
    "    # Train with train_steps\n",
    "    training_loop.run(n_steps = train_steps)\n",
    "    ### END CODE HERE ###\n",
    "    return training_loop"
   ]
  },
  {
   "cell_type": "code",
   "execution_count": 44,
   "metadata": {},
   "outputs": [
    {
     "name": "stdout",
     "output_type": "stream",
     "text": [
      "No GPU available, training on CPU; consider making n_epochs very small.\n"
     ]
    }
   ],
   "source": [
    "# check if GPU is available\n",
    "train_on_gpu = torch.cuda.is_available()\n",
    "if(train_on_gpu):\n",
    "    print('Training on GPU!')\n",
    "else: \n",
    "    print('No GPU available, training on CPU; consider making n_epochs very small.')"
   ]
  },
  {
   "cell_type": "code",
   "execution_count": 45,
   "metadata": {},
   "outputs": [
    {
     "name": "stdout",
     "output_type": "stream",
     "text": [
      "cpu\n"
     ]
    }
   ],
   "source": [
    "###\n",
    "device = torch.device('cuda' if torch.cuda.is_available() else 'cpu')\n",
    "print(device)\n",
    "#torch.cuda.get_device_name(0)"
   ]
  },
  {
   "cell_type": "markdown",
   "metadata": {},
   "source": [
    "Define the train function and evaluation(validation) function"
   ]
  },
  {
   "cell_type": "code",
   "execution_count": null,
   "metadata": {},
   "outputs": [],
   "source": [
    "def train_fn(data_loader, model, optimizer, device, batch_size=batch_size):\n",
    "    model.train()\n",
    "    # initialize hidden state\n",
    "    h = model.init_hidden(batch_size)\n",
    "    train_loss = 0\n",
    "    train_losses = [] # to keep the losses of each epoch\n",
    "    for data in tqdm(data_loader, total=len(data_loader)):\n",
    "        for k, v in data.items():\n",
    "            data[k] = v.to(device)\n",
    "        \n",
    "        # Creating new variables for the hidden state, otherwise\n",
    "        # we'd backprop through the entire training history\n",
    "        h = model.init_hidden(batch_size, device)\n",
    "        model.zero_grad()"
   ]
  },
  {
   "cell_type": "code",
   "execution_count": null,
   "metadata": {},
   "outputs": [],
   "source": [
    "# training params\n",
    "epochs = 10\n",
    "\n",
    "batch_size = 64"
   ]
  },
  {
   "cell_type": "code",
   "execution_count": null,
   "metadata": {},
   "outputs": [],
   "source": [
    "# move model to GPU, if available\n",
    "model.to(device)\n",
    "\n",
    "for e in range(epochs):\n",
    "    mdoel.train()"
   ]
  }
 ],
 "metadata": {
  "kernelspec": {
   "display_name": "Python 3",
   "language": "python",
   "name": "python3"
  },
  "language_info": {
   "codemirror_mode": {
    "name": "ipython",
    "version": 3
   },
   "file_extension": ".py",
   "mimetype": "text/x-python",
   "name": "python",
   "nbconvert_exporter": "python",
   "pygments_lexer": "ipython3",
   "version": "3.7.1"
  }
 },
 "nbformat": 4,
 "nbformat_minor": 2
}
