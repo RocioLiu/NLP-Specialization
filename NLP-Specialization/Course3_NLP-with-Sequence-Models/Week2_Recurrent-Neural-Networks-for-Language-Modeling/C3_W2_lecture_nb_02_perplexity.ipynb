{
 "cells": [
  {
   "cell_type": "markdown",
   "metadata": {},
   "source": [
    "# Working with JAX numpy and calculating perplexity: Ungraded Lecture Notebook"
   ]
  },
  {
   "cell_type": "markdown",
   "metadata": {},
   "source": [
    "Normally you would import `numpy` and rename it as `np`. \n",
    "\n",
    "However in this week's assignment you will notice that this convention has been changed. \n",
    "\n",
    "Now standard `numpy` is not renamed and `trax.fastmath.numpy` is renamed as `np`. \n",
    "\n",
    "The rationale behind this change is that you will be using Trax's numpy (which is compatible with JAX) far more often. Trax's numpy supports most of the same functions as the regular numpy so the change won't be noticeable in most cases.\n"
   ]
  },
  {
   "cell_type": "code",
   "execution_count": 4,
   "metadata": {},
   "outputs": [],
   "source": [
    "import numpy\n",
    "import trax\n",
    "import trax.fastmath.numpy as np\n",
    "\n",
    "# Setting random seeds\n",
    "trax.supervised.trainer_lib.init_random_number_generators(32)\n",
    "numpy.random.seed(32)"
   ]
  },
  {
   "cell_type": "markdown",
   "metadata": {},
   "source": [
    "One important change to take into consideration is that the types of the resulting objects will be different depending on the version of numpy. With regular numpy you get `numpy.ndarray` but with Trax's numpy you will get `jax.interpreters.xla.DeviceArray`. These two types map to each other. So if you find some error logs mentioning DeviceArray type, don't worry about it, treat it like you would treat an ndarray and march ahead.\n",
    "\n",
    "You can get a randomized numpy array by using the `numpy.random.random()` function.\n",
    "\n",
    "This is one of the functionalities that Trax's numpy does not currently support in the same way as the regular numpy. "
   ]
  },
  {
   "cell_type": "code",
   "execution_count": 5,
   "metadata": {},
   "outputs": [
    {
     "name": "stdout",
     "output_type": "stream",
     "text": [
      "The regular numpy array looks like this:\n",
      "\n",
      " [[0.85888927 0.37271115 0.55512878 0.95565655 0.7366696  0.81620514\n",
      "  0.10108656 0.92848807 0.60910917 0.59655344]\n",
      " [0.09178413 0.34518624 0.66275252 0.44171349 0.55148779 0.70371249\n",
      "  0.58940123 0.04993276 0.56179184 0.76635847]\n",
      " [0.91090833 0.09290995 0.90252139 0.46096041 0.45201847 0.99942549\n",
      "  0.16242374 0.70937058 0.16062408 0.81077677]\n",
      " [0.03514717 0.53488673 0.16650012 0.30841038 0.04506241 0.23857613\n",
      "  0.67483453 0.78238275 0.69520163 0.32895445]\n",
      " [0.49403187 0.52412136 0.29854125 0.46310814 0.98478429 0.50113492\n",
      "  0.39807245 0.72790532 0.86333097 0.02616954]]\n",
      "\n",
      "It is of type: <class 'numpy.ndarray'>\n"
     ]
    }
   ],
   "source": [
    "numpy_array = numpy.random.random((5,10))\n",
    "print(f\"The regular numpy array looks like this:\\n\\n {numpy_array}\\n\")\n",
    "print(f\"It is of type: {type(numpy_array)}\")"
   ]
  },
  {
   "cell_type": "markdown",
   "metadata": {},
   "source": [
    "You can easily cast regular numpy arrays or lists into trax numpy arrays using the `trax.fastmath.numpy.array()` function:"
   ]
  },
  {
   "cell_type": "code",
   "execution_count": 6,
   "metadata": {},
   "outputs": [
    {
     "name": "stdout",
     "output_type": "stream",
     "text": [
      "The trax numpy array looks like this:\n",
      "\n",
      " [[0.8588893  0.37271115 0.55512875 0.9556565  0.7366696  0.81620514\n",
      "  0.10108656 0.9284881  0.60910916 0.59655344]\n",
      " [0.09178413 0.34518623 0.6627525  0.44171348 0.5514878  0.70371246\n",
      "  0.58940125 0.04993276 0.56179184 0.7663585 ]\n",
      " [0.91090834 0.09290995 0.9025214  0.46096042 0.45201847 0.9994255\n",
      "  0.16242374 0.7093706  0.16062407 0.81077677]\n",
      " [0.03514718 0.5348867  0.16650012 0.30841038 0.04506241 0.23857613\n",
      "  0.67483455 0.7823827  0.69520164 0.32895446]\n",
      " [0.49403188 0.52412134 0.29854125 0.46310815 0.9847843  0.50113493\n",
      "  0.39807245 0.72790533 0.86333096 0.02616954]]\n",
      "\n",
      "It is of type: <class 'jax.interpreters.xla.DeviceArray'>\n"
     ]
    }
   ],
   "source": [
    "trax_numpy_array = np.array(numpy_array)\n",
    "print(f\"The trax numpy array looks like this:\\n\\n {trax_numpy_array}\\n\")\n",
    "print(f\"It is of type: {type(trax_numpy_array)}\")\n",
    "\n"
   ]
  },
  {
   "cell_type": "markdown",
   "metadata": {},
   "source": [
    "Hope you now understand the differences (and similarities) between these two versions and numpy. **Great!**\n",
    "\n",
    "The previous section was a quick look at Trax's numpy. However this notebook also aims to teach you how you can calculate the perplexity of a trained model.\n"
   ]
  },
  {
   "cell_type": "markdown",
   "metadata": {},
   "source": [
    "## Calculating Perplexity"
   ]
  },
  {
   "cell_type": "markdown",
   "metadata": {},
   "source": [
    "The perplexity is a metric that measures how well a probability model predicts a sample and it is commonly used to evaluate language models. It is defined as: \n",
    "\n",
    "$$P(W) = \\sqrt[N]{\\prod_{i=1}^{N} \\frac{1}{P(w_i| w_1,...,w_{n-1})}}$$\n",
    "\n",
    "As an implementation hack, you would usually take the log of that formula (to enable us to use the log probabilities we get as output of our `RNN`, convert exponents to products, and products into sums which makes computations less complicated and computationally more efficient). You should also take care of the padding, since you do not want to include the padding when calculating the perplexity (because we do not want to have a perplexity measure artificially good). The algebra behind this process is explained next:\n",
    "\n",
    "\n",
    "$$log P(W) = {log\\big(\\sqrt[N]{\\prod_{i=1}^{N} \\frac{1}{P(w_i| w_1,...,w_{n-1})}}\\big)}$$\n",
    "\n",
    "$$ = {log\\big({\\prod_{i=1}^{N} \\frac{1}{P(w_i| w_1,...,w_{n-1})}}\\big)^{\\frac{1}{N}}}$$ \n",
    "\n",
    "$$ = {log\\big({\\prod_{i=1}^{N}{P(w_i| w_1,...,w_{n-1})}}\\big)^{-\\frac{1}{N}}} $$\n",
    "$$ = -\\frac{1}{N}{log\\big({\\prod_{i=1}^{N}{P(w_i| w_1,...,w_{n-1})}}\\big)} $$\n",
    "$$ = -\\frac{1}{N}{\\big({\\sum_{i=1}^{N}{logP(w_i| w_1,...,w_{n-1})}}\\big)} $$"
   ]
  },
  {
   "cell_type": "markdown",
   "metadata": {},
   "source": [
    "You will be working with a real example from this week's assignment. The example is made up of:\n",
    "   - `predictions` : batch of tensors corresponding to lines of text predicted by the model.\n",
    "   - `targets` : batch of actual tensors corresponding to lines of text."
   ]
  },
  {
   "cell_type": "code",
   "execution_count": 7,
   "metadata": {},
   "outputs": [
    {
     "name": "stdout",
     "output_type": "stream",
     "text": [
      "predictions has shape: (32, 64, 256)\n",
      "targets has shape: (32, 64)\n"
     ]
    }
   ],
   "source": [
    "from trax import layers as tl\n",
    "\n",
    "# Load from .npy files\n",
    "predictions = numpy.load('predictions.npy')\n",
    "targets = numpy.load('targets.npy')\n",
    "\n",
    "# Cast to jax.interpreters.xla.DeviceArray\n",
    "predictions = np.array(predictions)\n",
    "targets = np.array(targets)\n",
    "\n",
    "# Print shapes\n",
    "print(f'predictions has shape: {predictions.shape}')\n",
    "print(f'targets has shape: {targets.shape}')"
   ]
  },
  {
   "cell_type": "code",
   "execution_count": 8,
   "metadata": {},
   "outputs": [
    {
     "data": {
      "text/plain": [
       "DeviceArray([-15.579997 , -25.735575 , -15.576893 , -15.575438 ,\n",
       "             -15.578    , -15.5671   , -15.569961 , -15.577178 ,\n",
       "             -15.577527 , -16.853582 , -15.579068 , -15.572912 ,\n",
       "             -15.583867 , -15.582075 , -15.572544 , -15.590691 ,\n",
       "             -15.580892 , -15.564224 , -15.581494 , -15.575191 ,\n",
       "             -15.580459 , -15.570125 , -15.570762 , -15.573637 ,\n",
       "             -15.569896 , -15.563946 , -15.577015 , -15.578933 ,\n",
       "             -15.570032 , -15.569778 , -15.577312 , -15.583919 ,\n",
       "             -14.783871 , -19.375536 , -15.56463  , -15.583172 ,\n",
       "             -16.378674 , -15.570613 , -10.78342  ,  -4.743763 ,\n",
       "              -6.0541244, -26.079489 , -15.568203 , -15.573162 ,\n",
       "             -22.60177  ,  -8.983564 , -23.188797 , -15.576623 ,\n",
       "             -15.369985 ,  -7.5411735,  -8.133133 ,  -8.58906  ,\n",
       "             -11.534666 , -12.234286 , -12.028591 , -11.054028 ,\n",
       "             -12.349669 , -11.166466 , -30.400703 , -28.643908 ,\n",
       "             -15.573648 , -15.583812 , -15.5819   , -21.409838 ,\n",
       "             -15.566822 ,  -2.3704128,  -3.0276651,  -2.9461555,\n",
       "              -3.9008489,  -4.559244 ,  -3.1475163,  -4.041566 ,\n",
       "              -3.1697874,  -2.8564591,  -5.332519 ,  -4.27932  ,\n",
       "              -3.5610886,  -3.274645 ,  -4.152555 ,  -3.393127 ,\n",
       "              -3.6750553,  -5.4922085,  -4.2940626,  -2.8703322,\n",
       "              -2.0534863,  -4.7899933,  -5.6146984,  -2.9490714,\n",
       "              -7.3440795,  -3.9866698, -10.268007 ,  -3.2313187,\n",
       "             -15.5829525, -25.581495 , -15.579082 , -15.575822 ,\n",
       "             -15.573761 ,  -4.5857706,  -5.2169456,  -5.0829043,\n",
       "              -5.3913217,  -5.9313164,  -5.3935995,  -6.059362 ,\n",
       "              -4.8162107,  -5.396545 ,  -8.233181 ,  -6.793023 ,\n",
       "              -5.6582203,  -5.137762 ,  -5.616633 ,  -5.2223887,\n",
       "              -5.450316 ,  -7.923636 ,  -6.3506994,  -4.6005764,\n",
       "              -4.1209865,  -6.8659706,  -6.9310603,  -4.7676992,\n",
       "             -20.004591 ,  -5.670536 , -13.55751  , -15.567229 ,\n",
       "              -6.122665 , -15.574505 , -15.576153 , -15.574747 ,\n",
       "             -15.575584 , -15.572973 , -15.570247 , -15.566037 ,\n",
       "             -15.582716 , -15.580914 , -15.568617 , -15.572286 ,\n",
       "             -15.568726 , -15.574219 , -15.572499 , -15.580081 ,\n",
       "             -15.580333 , -15.573643 , -15.57237  , -15.577783 ,\n",
       "             -15.580555 , -15.581198 , -15.574279 , -15.571615 ,\n",
       "             -15.566125 , -15.573906 , -15.572896 , -15.574393 ,\n",
       "             -15.566446 , -15.575143 , -15.573266 , -15.571562 ,\n",
       "             -15.5713   , -15.587684 , -15.570718 , -15.569544 ,\n",
       "             -15.573757 , -15.578287 , -15.573882 , -15.567717 ,\n",
       "             -15.581936 , -15.569448 , -15.573403 , -15.5731945,\n",
       "             -15.57395  , -15.58057  , -15.571891 , -15.584754 ,\n",
       "             -15.572672 , -15.583324 , -15.585191 , -15.583893 ,\n",
       "             -15.575582 , -15.580794 , -15.582475 , -15.574216 ,\n",
       "             -15.574783 , -15.566799 , -15.570793 , -15.579409 ,\n",
       "             -15.577224 , -15.5731535, -15.573588 , -15.573267 ,\n",
       "             -15.565632 , -15.5773945, -15.574453 , -15.579003 ,\n",
       "             -15.574905 , -15.578273 , -15.573242 , -15.577355 ,\n",
       "             -15.565621 , -15.576794 , -15.576967 , -15.581939 ,\n",
       "             -15.577858 , -15.582029 , -15.580098 , -15.574542 ,\n",
       "             -15.572966 , -15.571841 , -15.584036 , -15.578106 ,\n",
       "             -15.572485 , -15.577054 , -15.574833 , -15.575457 ,\n",
       "             -15.584796 , -15.574221 , -15.58077  , -15.579264 ,\n",
       "             -15.577389 , -15.567581 , -15.588231 , -15.575741 ,\n",
       "             -15.57288  , -15.588316 , -15.577138 , -15.575328 ,\n",
       "             -15.577077 , -15.5706005, -15.582671 , -15.574152 ,\n",
       "             -15.567785 , -15.577149 , -15.576629 , -15.58084  ,\n",
       "             -15.572592 , -15.568719 , -15.583055 , -15.5754175,\n",
       "             -15.577545 , -15.570312 , -15.565319 , -15.579058 ,\n",
       "             -15.576107 , -15.571705 , -15.573764 , -15.581408 ,\n",
       "             -15.572813 , -15.566363 , -15.574348 , -15.57546  ,\n",
       "             -15.577691 , -15.579636 , -15.576538 , -15.578066 ,\n",
       "             -15.574567 , -15.574669 , -15.571493 , -15.569425 ],            dtype=float32)"
      ]
     },
     "execution_count": 8,
     "metadata": {},
     "output_type": "execute_result"
    }
   ],
   "source": [
    "predictions[0,0,:]"
   ]
  },
  {
   "cell_type": "code",
   "execution_count": 9,
   "metadata": {},
   "outputs": [
    {
     "data": {
      "text/plain": [
       "DeviceArray(105, dtype=int32)"
      ]
     },
     "execution_count": 9,
     "metadata": {},
     "output_type": "execute_result"
    }
   ],
   "source": [
    "targets[0,0]"
   ]
  },
  {
   "cell_type": "markdown",
   "metadata": {},
   "source": [
    "Notice that the predictions have an extra dimension with the same length as the size of the vocabulary used.\n",
    "\n",
    "Because of this you will need a way of reshaping `targets` to match this shape. For this you can use `trax.layers.one_hot()`.\n",
    "\n",
    "Notice that `predictions.shape[-1]` will return the size of the last dimension of `predictions`."
   ]
  },
  {
   "cell_type": "code",
   "execution_count": 10,
   "metadata": {},
   "outputs": [
    {
     "name": "stdout",
     "output_type": "stream",
     "text": [
      "reshaped_targets has shape: (32, 64, 256)\n"
     ]
    }
   ],
   "source": [
    "reshaped_targets = tl.one_hot(targets, predictions.shape[-1]) #trax's one_hot function takes the input as one_hot(x, n_categories, dtype=optional)\n",
    "print(f'reshaped_targets has shape: {reshaped_targets.shape}')"
   ]
  },
  {
   "cell_type": "code",
   "execution_count": 11,
   "metadata": {},
   "outputs": [
    {
     "data": {
      "text/plain": [
       "DeviceArray([0., 0., 0., 0., 0., 0., 0., 0., 0., 0., 0., 0., 0., 0., 0.,\n",
       "             0., 0., 0., 0., 0., 0., 0., 0., 0., 0., 0., 0., 0., 0., 0.,\n",
       "             0., 0., 0., 0., 0., 0., 0., 0., 0., 0., 0., 0., 0., 0., 0.,\n",
       "             0., 0., 0., 0., 0., 0., 0., 0., 0., 0., 0., 0., 0., 0., 0.,\n",
       "             0., 0., 0., 0., 0., 0., 0., 0., 0., 0., 0., 0., 0., 0., 0.,\n",
       "             0., 0., 0., 0., 0., 0., 0., 0., 0., 0., 0., 0., 0., 0., 0.,\n",
       "             0., 0., 0., 0., 0., 0., 0., 0., 0., 0., 0., 0., 0., 0., 0.,\n",
       "             1., 0., 0., 0., 0., 0., 0., 0., 0., 0., 0., 0., 0., 0., 0.,\n",
       "             0., 0., 0., 0., 0., 0., 0., 0., 0., 0., 0., 0., 0., 0., 0.,\n",
       "             0., 0., 0., 0., 0., 0., 0., 0., 0., 0., 0., 0., 0., 0., 0.,\n",
       "             0., 0., 0., 0., 0., 0., 0., 0., 0., 0., 0., 0., 0., 0., 0.,\n",
       "             0., 0., 0., 0., 0., 0., 0., 0., 0., 0., 0., 0., 0., 0., 0.,\n",
       "             0., 0., 0., 0., 0., 0., 0., 0., 0., 0., 0., 0., 0., 0., 0.,\n",
       "             0., 0., 0., 0., 0., 0., 0., 0., 0., 0., 0., 0., 0., 0., 0.,\n",
       "             0., 0., 0., 0., 0., 0., 0., 0., 0., 0., 0., 0., 0., 0., 0.,\n",
       "             0., 0., 0., 0., 0., 0., 0., 0., 0., 0., 0., 0., 0., 0., 0.,\n",
       "             0., 0., 0., 0., 0., 0., 0., 0., 0., 0., 0., 0., 0., 0., 0.,\n",
       "             0.], dtype=float32)"
      ]
     },
     "execution_count": 11,
     "metadata": {},
     "output_type": "execute_result"
    }
   ],
   "source": [
    "reshaped_targets[0,0,:]"
   ]
  },
  {
   "cell_type": "markdown",
   "metadata": {},
   "source": [
    "By calculating the product of the predictions and the reshaped targets and summing across the last dimension, the total log perplexity can be computed:"
   ]
  },
  {
   "cell_type": "code",
   "execution_count": 12,
   "metadata": {},
   "outputs": [],
   "source": [
    "total_log_ppx = np.sum(predictions * reshaped_targets, axis= -1)"
   ]
  },
  {
   "cell_type": "markdown",
   "metadata": {},
   "source": [
    "Now you will need to account for the padding so this metric is not artificially deflated (since a lower perplexity means a better model). For identifying which elements are padding and which are not, you can use `np.equal()` and get a tensor with `1s` in the positions of actual values and `0s` where there are paddings."
   ]
  },
  {
   "cell_type": "code",
   "execution_count": 16,
   "metadata": {},
   "outputs": [
    {
     "name": "stdout",
     "output_type": "stream",
     "text": [
      "non_pad has shape: (32, 64)\n",
      "\n",
      "non_pad looks like this: \n",
      "\n",
      " [[1. 1. 1. ... 0. 0. 0.]\n",
      " [1. 1. 1. ... 0. 0. 0.]\n",
      " [1. 1. 1. ... 0. 0. 0.]\n",
      " ...\n",
      " [1. 1. 1. ... 0. 0. 0.]\n",
      " [1. 1. 1. ... 0. 0. 0.]\n",
      " [1. 1. 1. ... 0. 0. 0.]]\n"
     ]
    }
   ],
   "source": [
    "non_pad = 1.0 - np.equal(targets, 0)\n",
    "print(f'non_pad has shape: {non_pad.shape}\\n')\n",
    "print(f'non_pad looks like this: \\n\\n {non_pad}')"
   ]
  },
  {
   "cell_type": "markdown",
   "metadata": {},
   "source": [
    "By computing the product of the total log perplexity and the non_pad tensor we remove the effect of padding on the metric:"
   ]
  },
  {
   "cell_type": "code",
   "execution_count": 17,
   "metadata": {},
   "outputs": [
    {
     "name": "stdout",
     "output_type": "stream",
     "text": [
      "real perplexity still has shape: (32, 64)\n"
     ]
    }
   ],
   "source": [
    "real_log_ppx = total_log_ppx * non_pad\n",
    "print(f'real perplexity still has shape: {real_log_ppx.shape}')"
   ]
  },
  {
   "cell_type": "markdown",
   "metadata": {},
   "source": [
    "You can check the effect of filtering out the padding by looking at the two log perplexity tensors:"
   ]
  },
  {
   "cell_type": "code",
   "execution_count": 18,
   "metadata": {},
   "outputs": [
    {
     "name": "stdout",
     "output_type": "stream",
     "text": [
      "log perplexity tensor before filtering padding: \n",
      "\n",
      " [[ -5.396545    -1.0311184   -0.66916656 ... -22.37673    -23.18771\n",
      "  -21.843483  ]\n",
      " [ -4.5857706   -1.1341286   -8.538033   ... -20.15686    -26.837097\n",
      "  -23.57502   ]\n",
      " [ -5.2223887   -1.2824144   -0.17312431 ... -21.328228   -19.854412\n",
      "  -33.88444   ]\n",
      " ...\n",
      " [ -5.396545   -17.291681    -4.360766   ... -20.825802   -21.065838\n",
      "  -22.443115  ]\n",
      " [ -5.9313164  -14.247417    -0.2637329  ... -26.743248   -18.38433\n",
      "  -22.355278  ]\n",
      " [ -5.670536    -0.10595131   0.         ... -23.332523   -28.087376\n",
      "  -23.878807  ]]\n",
      "\n",
      "log perplexity tensor after filtering padding: \n",
      "\n",
      " [[ -5.396545    -1.0311184   -0.66916656 ...  -0.          -0.\n",
      "   -0.        ]\n",
      " [ -4.5857706   -1.1341286   -8.538033   ...  -0.          -0.\n",
      "   -0.        ]\n",
      " [ -5.2223887   -1.2824144   -0.17312431 ...  -0.          -0.\n",
      "   -0.        ]\n",
      " ...\n",
      " [ -5.396545   -17.291681    -4.360766   ...  -0.          -0.\n",
      "   -0.        ]\n",
      " [ -5.9313164  -14.247417    -0.2637329  ...  -0.          -0.\n",
      "   -0.        ]\n",
      " [ -5.670536    -0.10595131   0.         ...  -0.          -0.\n",
      "   -0.        ]]\n"
     ]
    }
   ],
   "source": [
    "print(f'log perplexity tensor before filtering padding: \\n\\n {total_log_ppx}\\n')\n",
    "print(f'log perplexity tensor after filtering padding: \\n\\n {real_log_ppx}')"
   ]
  },
  {
   "cell_type": "markdown",
   "metadata": {},
   "source": [
    "To get a single average log perplexity across all the elements in the batch you can sum across both dimensions and divide by the number of elements. Notice that the result will be the negative of the real log perplexity of the model:"
   ]
  },
  {
   "cell_type": "code",
   "execution_count": 19,
   "metadata": {},
   "outputs": [
    {
     "name": "stdout",
     "output_type": "stream",
     "text": [
      "The log perplexity and perplexity of the model are respectively: 2.3281209468841553 and 10.258646965026855\n"
     ]
    }
   ],
   "source": [
    "log_ppx = np.sum(real_log_ppx) / np.sum(non_pad)\n",
    "log_ppx = -log_ppx\n",
    "print(f'The log perplexity and perplexity of the model are respectively: {log_ppx} and {np.exp(log_ppx)}')"
   ]
  },
  {
   "cell_type": "markdown",
   "metadata": {},
   "source": [
    "**Congratulations on finishing this lecture notebook!** Now you should have a clear understanding of how to work with Trax's numpy and how to compute the perplexity to evaluate your language models. **Keep it up!**"
   ]
  }
 ],
 "metadata": {
  "kernelspec": {
   "display_name": "Python 3",
   "language": "python",
   "name": "python3"
  },
  "language_info": {
   "codemirror_mode": {
    "name": "ipython",
    "version": 3
   },
   "file_extension": ".py",
   "mimetype": "text/x-python",
   "name": "python",
   "nbconvert_exporter": "python",
   "pygments_lexer": "ipython3",
   "version": "3.7.1"
  }
 },
 "nbformat": 4,
 "nbformat_minor": 4
}
